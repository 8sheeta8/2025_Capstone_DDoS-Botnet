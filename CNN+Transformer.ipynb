{
  "nbformat": 4,
  "nbformat_minor": 0,
  "metadata": {
    "colab": {
      "provenance": [],
      "machine_shape": "hm",
      "authorship_tag": "ABX9TyPOdyMpELzHwX6yV4bCqsQt",
      "include_colab_link": true
    },
    "kernelspec": {
      "name": "python3",
      "display_name": "Python 3"
    },
    "language_info": {
      "name": "python"
    }
  },
  "cells": [
    {
      "cell_type": "markdown",
      "metadata": {
        "id": "view-in-github",
        "colab_type": "text"
      },
      "source": [
        "<a href=\"https://colab.research.google.com/github/8sheeta8/2025_Capstone_DDoS-Botnet/blob/main/CNN%2BTransformer.ipynb\" target=\"_parent\"><img src=\"https://colab.research.google.com/assets/colab-badge.svg\" alt=\"Open In Colab\"/></a>"
      ]
    },
    {
      "cell_type": "code",
      "execution_count": 2,
      "metadata": {
        "colab": {
          "base_uri": "https://localhost:8080/"
        },
        "id": "aLXXYRh_nZsQ",
        "outputId": "1390f8b9-74de-4273-f1d7-9f2f56e8979f"
      },
      "outputs": [
        {
          "output_type": "stream",
          "name": "stdout",
          "text": [
            "[1단계 완료] 라이브러리 임포트 완료\n"
          ]
        }
      ],
      "source": [
        "# ==========================\n",
        "# 1. 필요한 라이브러리 임포트\n",
        "# ==========================\n",
        "import pandas as pd\n",
        "import numpy as np\n",
        "from sklearn.model_selection import train_test_split\n",
        "from sklearn.preprocessing import LabelEncoder, StandardScaler\n",
        "from imblearn.over_sampling import SMOTE\n",
        "from tensorflow.keras import layers, models\n",
        "import tensorflow as tf\n",
        "\n",
        "print(\"[1단계 완료] 라이브러리 임포트 완료\")"
      ]
    },
    {
      "cell_type": "code",
      "source": [
        "# ==========================\n",
        "# 2. 데이터 불러오기 및 통합\n",
        "# ==========================\n",
        "csv_files = [\n",
        "    '/content/Tuesday-WorkingHours.pcap_ISCX.csv',\n",
        "    '/content/Wednesday-workingHours.pcap_ISCX.csv',\n",
        "    '/content/Thursday-WorkingHours-Morning-WebAttacks.pcap_ISCX.csv',\n",
        "    '/content/Thursday-WorkingHours-Afternoon-Infilteration.pcap_ISCX.csv',\n",
        "    '/content/Friday-WorkingHours-Morning.pcap_ISCX.csv',\n",
        "    '/content/Friday-WorkingHours-Afternoon-DDos.pcap_ISCX.csv',\n",
        "    '/content/Friday-WorkingHours-Afternoon-PortScan.pcap_ISCX.csv'\n",
        "]\n",
        "\n",
        "full_data = pd.concat([pd.read_csv(file) for file in csv_files], ignore_index=True)\n",
        "full_data.columns = full_data.columns.str.strip()  # 컬럼명 공백 제거\n",
        "\n",
        "print(\"[2단계 완료] 데이터 통합 완료\")\n",
        "print(\"전체 데이터 shape:\", full_data.shape)"
      ],
      "metadata": {
        "colab": {
          "base_uri": "https://localhost:8080/"
        },
        "id": "4KlAjViSncuE",
        "outputId": "4a2b10b2-e674-48ae-f093-ff441ba86ceb"
      },
      "execution_count": 3,
      "outputs": [
        {
          "output_type": "stream",
          "name": "stdout",
          "text": [
            "[2단계 완료] 데이터 통합 완료\n",
            "전체 데이터 shape: (2300825, 79)\n"
          ]
        }
      ]
    },
    {
      "cell_type": "code",
      "source": [
        "print(full_data.columns)"
      ],
      "metadata": {
        "colab": {
          "base_uri": "https://localhost:8080/"
        },
        "id": "kpkHgKwnp27q",
        "outputId": "0639238e-92dc-4be4-aa60-4a9bbca3b209"
      },
      "execution_count": 5,
      "outputs": [
        {
          "output_type": "stream",
          "name": "stdout",
          "text": [
            "Index([' Destination Port', ' Flow Duration', ' Total Fwd Packets',\n",
            "       ' Total Backward Packets', 'Total Length of Fwd Packets',\n",
            "       ' Total Length of Bwd Packets', ' Fwd Packet Length Max',\n",
            "       ' Fwd Packet Length Min', ' Fwd Packet Length Mean',\n",
            "       ' Fwd Packet Length Std', 'Bwd Packet Length Max',\n",
            "       ' Bwd Packet Length Min', ' Bwd Packet Length Mean',\n",
            "       ' Bwd Packet Length Std', 'Flow Bytes/s', ' Flow Packets/s',\n",
            "       ' Flow IAT Mean', ' Flow IAT Std', ' Flow IAT Max', ' Flow IAT Min',\n",
            "       'Fwd IAT Total', ' Fwd IAT Mean', ' Fwd IAT Std', ' Fwd IAT Max',\n",
            "       ' Fwd IAT Min', 'Bwd IAT Total', ' Bwd IAT Mean', ' Bwd IAT Std',\n",
            "       ' Bwd IAT Max', ' Bwd IAT Min', 'Fwd PSH Flags', ' Bwd PSH Flags',\n",
            "       ' Fwd URG Flags', ' Bwd URG Flags', ' Fwd Header Length',\n",
            "       ' Bwd Header Length', 'Fwd Packets/s', ' Bwd Packets/s',\n",
            "       ' Min Packet Length', ' Max Packet Length', ' Packet Length Mean',\n",
            "       ' Packet Length Std', ' Packet Length Variance', 'FIN Flag Count',\n",
            "       ' SYN Flag Count', ' RST Flag Count', ' PSH Flag Count',\n",
            "       ' ACK Flag Count', ' URG Flag Count', ' CWE Flag Count',\n",
            "       ' ECE Flag Count', ' Down/Up Ratio', ' Average Packet Size',\n",
            "       ' Avg Fwd Segment Size', ' Avg Bwd Segment Size',\n",
            "       ' Fwd Header Length.1', 'Fwd Avg Bytes/Bulk', ' Fwd Avg Packets/Bulk',\n",
            "       ' Fwd Avg Bulk Rate', ' Bwd Avg Bytes/Bulk', ' Bwd Avg Packets/Bulk',\n",
            "       'Bwd Avg Bulk Rate', 'Subflow Fwd Packets', ' Subflow Fwd Bytes',\n",
            "       ' Subflow Bwd Packets', ' Subflow Bwd Bytes', 'Init_Win_bytes_forward',\n",
            "       ' Init_Win_bytes_backward', ' act_data_pkt_fwd',\n",
            "       ' min_seg_size_forward', 'Active Mean', ' Active Std', ' Active Max',\n",
            "       ' Active Min', 'Idle Mean', ' Idle Std', ' Idle Max', ' Idle Min',\n",
            "       ' Label'],\n",
            "      dtype='object')\n"
          ]
        }
      ]
    },
    {
      "cell_type": "code",
      "source": [
        "csv_files = [\n",
        "    '/content/Tuesday-WorkingHours.pcap_ISCX.csv',\n",
        "    '/content/Wednesday-workingHours.pcap_ISCX.csv',\n",
        "    '/content/Thursday-WorkingHours-Morning-WebAttacks.pcap_ISCX.csv',\n",
        "    '/content/Thursday-WorkingHours-Afternoon-Infilteration.pcap_ISCX.csv',\n",
        "    '/content/Friday-WorkingHours-Morning.pcap_ISCX.csv',\n",
        "    '/content/Friday-WorkingHours-Afternoon-DDos.pcap_ISCX.csv',\n",
        "    '/content/Friday-WorkingHours-Afternoon-PortScan.pcap_ISCX.csv'\n",
        "]\n",
        "\n",
        "for file in csv_files:\n",
        "    df = pd.read_csv(file)\n",
        "    df.columns = df.columns.str.strip()   # ★ 컬럼명 앞뒤 공백 제거 ★\n",
        "    labels = df['Label'].unique()\n",
        "    print(f\"\\n{file} 파일에 포함된 라벨 종류:\")\n",
        "    print(labels)\n"
      ],
      "metadata": {
        "colab": {
          "base_uri": "https://localhost:8080/"
        },
        "id": "ryXbyy2oqBGp",
        "outputId": "fdcbdaa8-ba6d-48b2-8fa6-f00849d137ac"
      },
      "execution_count": 11,
      "outputs": [
        {
          "output_type": "stream",
          "name": "stdout",
          "text": [
            "\n",
            "/content/Monday-WorkingHours.pcap_ISCX.csv 파일에 포함된 라벨 종류:\n",
            "['BENIGN']\n",
            "\n",
            "/content/Tuesday-WorkingHours.pcap_ISCX.csv 파일에 포함된 라벨 종류:\n",
            "['BENIGN' 'FTP-Patator' 'SSH-Patator']\n",
            "\n",
            "/content/Wednesday-workingHours.pcap_ISCX.csv 파일에 포함된 라벨 종류:\n",
            "['BENIGN' 'DoS slowloris' 'DoS Slowhttptest' 'DoS Hulk' 'DoS GoldenEye'\n",
            " 'Heartbleed']\n",
            "\n",
            "/content/Thursday-WorkingHours-Morning-WebAttacks.pcap_ISCX.csv 파일에 포함된 라벨 종류:\n",
            "['BENIGN' 'Web Attack � Brute Force' 'Web Attack � XSS'\n",
            " 'Web Attack � Sql Injection']\n",
            "\n",
            "/content/Thursday-WorkingHours-Afternoon-Infilteration.pcap_ISCX.csv 파일에 포함된 라벨 종류:\n",
            "['BENIGN' 'Infiltration']\n",
            "\n",
            "/content/Friday-WorkingHours-Morning.pcap_ISCX.csv 파일에 포함된 라벨 종류:\n",
            "['BENIGN' 'Bot']\n",
            "\n",
            "/content/Friday-WorkingHours-Afternoon-DDos.pcap_ISCX.csv 파일에 포함된 라벨 종류:\n",
            "['BENIGN' 'DDoS']\n",
            "\n",
            "/content/Friday-WorkingHours-Afternoon-PortScan.pcap_ISCX.csv 파일에 포함된 라벨 종류:\n",
            "['BENIGN' 'PortScan']\n"
          ]
        }
      ]
    },
    {
      "cell_type": "code",
      "source": [
        "\n",
        "# ==========================\n",
        "# 3. 데이터 전처리\n",
        "# ==========================\n",
        "# 불필요한 컬럼 제거\n",
        "drop_columns = ['Flow ID', 'Source IP', 'Source Port', 'Destination IP', 'Destination Port', 'Timestamp']\n",
        "full_data = full_data.drop(columns=[col for col in drop_columns if col in full_data.columns], errors='ignore')\n",
        "\n",
        "# 결측치 제거\n",
        "full_data = full_data.replace([np.inf, -np.inf], np.nan)\n",
        "full_data = full_data.dropna()\n",
        "\n",
        "# Label 통합\n",
        "def map_label(label):\n",
        "    label = str(label)\n",
        "    if 'Web Attack' in label:\n",
        "        return 'Web Attack'\n",
        "    elif 'DoS' in label:\n",
        "        return 'DoS'\n",
        "    elif 'Heartbleed' in label:\n",
        "        return 'Heartbleed'\n",
        "    elif 'Bot' in label:\n",
        "        return 'Botnet'\n",
        "    elif 'DDoS' in label:\n",
        "        return 'DDoS'\n",
        "    elif 'PortScan' in label:\n",
        "        return 'PortScan'\n",
        "    elif 'Infiltration' in label:\n",
        "        return 'Infiltration'\n",
        "    elif label == 'BENIGN':\n",
        "        return 'Normal'\n",
        "    else:\n",
        "        return 'Other'\n",
        "\n",
        "full_data['Label'] = full_data['Label'].apply(map_label)\n",
        "\n",
        "# Label 인코딩\n",
        "labelencoder = LabelEncoder()\n",
        "full_data['Label'] = labelencoder.fit_transform(full_data['Label'])\n",
        "\n",
        "# 피처와 라벨 분리\n",
        "X = full_data.drop('Label', axis=1)\n",
        "y = full_data['Label']\n",
        "\n",
        "# 표준화\n",
        "scaler = StandardScaler()\n",
        "X_scaled = scaler.fit_transform(X)\n",
        "\n",
        "print(\"[3단계 완료] 전처리 완료\")\n",
        "print(\"특성 수:\", X_scaled.shape[1])"
      ],
      "metadata": {
        "colab": {
          "base_uri": "https://localhost:8080/"
        },
        "id": "1bebAHGjneu6",
        "outputId": "7a900ed4-84aa-4711-984c-a3639a59aa94"
      },
      "execution_count": 4,
      "outputs": [
        {
          "output_type": "stream",
          "name": "stdout",
          "text": [
            "[3단계 완료] 전처리 완료\n",
            "특성 수: 77\n"
          ]
        }
      ]
    },
    {
      "cell_type": "code",
      "source": [
        "# ==========================\n",
        "# 4. SMOTE로 클래스 불균형 처리\n",
        "# ==========================\n",
        "X_resampled, y_resampled = SMOTE(random_state=42).fit_resample(X_scaled, y)\n",
        "X_resampled = np.array(X_resampled)\n",
        "y_resampled = np.array(y_resampled)\n",
        "\n",
        "print(\"[4단계 완료] SMOTE 완료\")\n",
        "print(\"SMOTE 이후 데이터 shape:\", X_resampled.shape)\n"
      ],
      "metadata": {
        "colab": {
          "base_uri": "https://localhost:8080/"
        },
        "id": "ybyu58GPng2G",
        "outputId": "2a41d0f1-ffbc-4421-ca38-0527c3203d82"
      },
      "execution_count": 5,
      "outputs": [
        {
          "output_type": "stream",
          "name": "stdout",
          "text": [
            "[4단계 완료] SMOTE 완료\n",
            "SMOTE 이후 데이터 shape: (13934712, 77)\n"
          ]
        }
      ]
    },
    {
      "cell_type": "code",
      "source": [
        "print(\"현재 라벨 종류:\", np.unique(y_resampled))"
      ],
      "metadata": {
        "colab": {
          "base_uri": "https://localhost:8080/"
        },
        "id": "l83JiHPBFTVO",
        "outputId": "5f090033-e10a-44c2-fc58-23b9ad670d06"
      },
      "execution_count": 6,
      "outputs": [
        {
          "output_type": "stream",
          "name": "stdout",
          "text": [
            "현재 라벨 종류: [0 1 2 3 4 5 6 7]\n"
          ]
        }
      ]
    },
    {
      "cell_type": "code",
      "source": [
        "# ==========================\n",
        "# 5. 클래스별 균형 샘플링 (300개씩)\n",
        "# ==========================\n",
        "sampled_X = []\n",
        "sampled_y = []\n",
        "\n",
        "labels = np.unique(y_resampled)\n",
        "\n",
        "for label in labels:\n",
        "    indices = np.where(y_resampled == label)[0]\n",
        "    if len(indices) >= 10000:\n",
        "        selected = np.random.choice(indices, 10000, replace=False)\n",
        "    else:\n",
        "        selected = np.random.choice(indices, len(indices), replace=False)\n",
        "    sampled_X.append(X_resampled[selected])\n",
        "    sampled_y.append(y_resampled[selected])\n",
        "\n",
        "X_sampled = np.vstack(sampled_X)\n",
        "y_sampled = np.hstack(sampled_y)\n",
        "\n",
        "print(\"샘플링 후 데이터 shape:\", X_sampled.shape)\n",
        "print(\"클래스별 데이터 개수:\", np.bincount(y_sampled))\n",
        "\n"
      ],
      "metadata": {
        "colab": {
          "base_uri": "https://localhost:8080/"
        },
        "id": "5jq4pUg0EeCD",
        "outputId": "4e04cb76-2b19-4990-84d3-d16b1df49b7c"
      },
      "execution_count": 13,
      "outputs": [
        {
          "output_type": "stream",
          "name": "stdout",
          "text": [
            "샘플링 후 데이터 shape: (80000, 77)\n",
            "클래스별 데이터 개수: [10000 10000 10000 10000 10000 10000 10000 10000]\n"
          ]
        }
      ]
    },
    {
      "cell_type": "code",
      "source": [
        "# ==========================\n",
        "# 6. 학습/테스트 데이터 분리\n",
        "# ==========================\n",
        "X_train, X_test, y_train, y_test = train_test_split(\n",
        "    X_sampled, y_sampled, test_size=0.2, random_state=42, stratify=y_sampled\n",
        ")\n",
        "\n",
        "print(\"[6단계 완료] 학습/테스트 분리 완료\")\n",
        "print(\"Train 데이터:\", X_train.shape)\n",
        "print(\"Test 데이터:\", X_test.shape)\n"
      ],
      "metadata": {
        "colab": {
          "base_uri": "https://localhost:8080/"
        },
        "id": "0wtpsEIGuN7J",
        "outputId": "29c053f0-372c-462f-daeb-61a2ae050ed6"
      },
      "execution_count": 14,
      "outputs": [
        {
          "output_type": "stream",
          "name": "stdout",
          "text": [
            "[6단계 완료] 학습/테스트 분리 완료\n",
            "Train 데이터: (64000, 77)\n",
            "Test 데이터: (16000, 77)\n"
          ]
        }
      ]
    },
    {
      "cell_type": "code",
      "source": [
        "\n",
        "# ==========================\n",
        "# 7. CNN + Transformer 모델 구축\n",
        "# ==========================\n",
        "X_train_reshaped = np.expand_dims(X_train, axis=2)\n",
        "X_test_reshaped = np.expand_dims(X_test, axis=2)\n",
        "\n",
        "input_shape = (X_train.shape[1], 1)\n",
        "num_classes = len(np.unique(y_train))\n",
        "\n",
        "inputs = layers.Input(shape=input_shape)\n",
        "x = layers.Conv1D(64, 3, activation='relu', padding='same')(inputs)\n",
        "x = layers.Conv1D(64, 3, activation='relu', padding='same')(x)\n",
        "\n",
        "attention_output = layers.MultiHeadAttention(num_heads=4, key_dim=64)(x, x)\n",
        "attention_output = layers.Add()([x, attention_output])\n",
        "attention_output = layers.LayerNormalization()(attention_output)\n",
        "\n",
        "ffn_output = layers.Dense(128, activation='relu')(attention_output)\n",
        "ffn_output = layers.Dense(64, activation='relu')(ffn_output)\n",
        "ffn_output = layers.Add()([attention_output, ffn_output])\n",
        "ffn_output = layers.LayerNormalization()(ffn_output)\n",
        "\n",
        "x = layers.GlobalAveragePooling1D()(ffn_output)\n",
        "x = layers.Dense(128, activation='relu')(x)\n",
        "x = layers.Dropout(0.3)(x)\n",
        "x = layers.Dense(64, activation='relu')(x)\n",
        "x = layers.Dropout(0.3)(x)\n",
        "outputs = layers.Dense(num_classes, activation='softmax')(x)\n",
        "\n",
        "model = models.Model(inputs=inputs, outputs=outputs)\n",
        "\n",
        "model.compile(optimizer='adam',\n",
        "              loss='sparse_categorical_crossentropy',\n",
        "              metrics=['accuracy'])\n",
        "\n",
        "model.summary()\n",
        "print(\"[7단계 완료] 모델 구축 완료\")"
      ],
      "metadata": {
        "colab": {
          "base_uri": "https://localhost:8080/",
          "height": 764
        },
        "id": "9B_eJCI6nm1R",
        "outputId": "b1886e5a-6ab6-4ea1-d1f6-4f35ade8cb61"
      },
      "execution_count": 15,
      "outputs": [
        {
          "output_type": "display_data",
          "data": {
            "text/plain": [
              "\u001b[1mModel: \"functional\"\u001b[0m\n"
            ],
            "text/html": [
              "<pre style=\"white-space:pre;overflow-x:auto;line-height:normal;font-family:Menlo,'DejaVu Sans Mono',consolas,'Courier New',monospace\"><span style=\"font-weight: bold\">Model: \"functional\"</span>\n",
              "</pre>\n"
            ]
          },
          "metadata": {}
        },
        {
          "output_type": "display_data",
          "data": {
            "text/plain": [
              "┏━━━━━━━━━━━━━━━━━━━━━┳━━━━━━━━━━━━━━━━━━━┳━━━━━━━━━━━━┳━━━━━━━━━━━━━━━━━━━┓\n",
              "┃\u001b[1m \u001b[0m\u001b[1mLayer (type)       \u001b[0m\u001b[1m \u001b[0m┃\u001b[1m \u001b[0m\u001b[1mOutput Shape     \u001b[0m\u001b[1m \u001b[0m┃\u001b[1m \u001b[0m\u001b[1m   Param #\u001b[0m\u001b[1m \u001b[0m┃\u001b[1m \u001b[0m\u001b[1mConnected to     \u001b[0m\u001b[1m \u001b[0m┃\n",
              "┡━━━━━━━━━━━━━━━━━━━━━╇━━━━━━━━━━━━━━━━━━━╇━━━━━━━━━━━━╇━━━━━━━━━━━━━━━━━━━┩\n",
              "│ input_layer         │ (\u001b[38;5;45mNone\u001b[0m, \u001b[38;5;34m77\u001b[0m, \u001b[38;5;34m1\u001b[0m)     │          \u001b[38;5;34m0\u001b[0m │ -                 │\n",
              "│ (\u001b[38;5;33mInputLayer\u001b[0m)        │                   │            │                   │\n",
              "├─────────────────────┼───────────────────┼────────────┼───────────────────┤\n",
              "│ conv1d (\u001b[38;5;33mConv1D\u001b[0m)     │ (\u001b[38;5;45mNone\u001b[0m, \u001b[38;5;34m77\u001b[0m, \u001b[38;5;34m64\u001b[0m)    │        \u001b[38;5;34m256\u001b[0m │ input_layer[\u001b[38;5;34m0\u001b[0m][\u001b[38;5;34m0\u001b[0m] │\n",
              "├─────────────────────┼───────────────────┼────────────┼───────────────────┤\n",
              "│ conv1d_1 (\u001b[38;5;33mConv1D\u001b[0m)   │ (\u001b[38;5;45mNone\u001b[0m, \u001b[38;5;34m77\u001b[0m, \u001b[38;5;34m64\u001b[0m)    │     \u001b[38;5;34m12,352\u001b[0m │ conv1d[\u001b[38;5;34m0\u001b[0m][\u001b[38;5;34m0\u001b[0m]      │\n",
              "├─────────────────────┼───────────────────┼────────────┼───────────────────┤\n",
              "│ multi_head_attenti… │ (\u001b[38;5;45mNone\u001b[0m, \u001b[38;5;34m77\u001b[0m, \u001b[38;5;34m64\u001b[0m)    │     \u001b[38;5;34m66,368\u001b[0m │ conv1d_1[\u001b[38;5;34m0\u001b[0m][\u001b[38;5;34m0\u001b[0m],   │\n",
              "│ (\u001b[38;5;33mMultiHeadAttentio…\u001b[0m │                   │            │ conv1d_1[\u001b[38;5;34m0\u001b[0m][\u001b[38;5;34m0\u001b[0m]    │\n",
              "├─────────────────────┼───────────────────┼────────────┼───────────────────┤\n",
              "│ add (\u001b[38;5;33mAdd\u001b[0m)           │ (\u001b[38;5;45mNone\u001b[0m, \u001b[38;5;34m77\u001b[0m, \u001b[38;5;34m64\u001b[0m)    │          \u001b[38;5;34m0\u001b[0m │ conv1d_1[\u001b[38;5;34m0\u001b[0m][\u001b[38;5;34m0\u001b[0m],   │\n",
              "│                     │                   │            │ multi_head_atten… │\n",
              "├─────────────────────┼───────────────────┼────────────┼───────────────────┤\n",
              "│ layer_normalization │ (\u001b[38;5;45mNone\u001b[0m, \u001b[38;5;34m77\u001b[0m, \u001b[38;5;34m64\u001b[0m)    │        \u001b[38;5;34m128\u001b[0m │ add[\u001b[38;5;34m0\u001b[0m][\u001b[38;5;34m0\u001b[0m]         │\n",
              "│ (\u001b[38;5;33mLayerNormalizatio…\u001b[0m │                   │            │                   │\n",
              "├─────────────────────┼───────────────────┼────────────┼───────────────────┤\n",
              "│ dense (\u001b[38;5;33mDense\u001b[0m)       │ (\u001b[38;5;45mNone\u001b[0m, \u001b[38;5;34m77\u001b[0m, \u001b[38;5;34m128\u001b[0m)   │      \u001b[38;5;34m8,320\u001b[0m │ layer_normalizat… │\n",
              "├─────────────────────┼───────────────────┼────────────┼───────────────────┤\n",
              "│ dense_1 (\u001b[38;5;33mDense\u001b[0m)     │ (\u001b[38;5;45mNone\u001b[0m, \u001b[38;5;34m77\u001b[0m, \u001b[38;5;34m64\u001b[0m)    │      \u001b[38;5;34m8,256\u001b[0m │ dense[\u001b[38;5;34m0\u001b[0m][\u001b[38;5;34m0\u001b[0m]       │\n",
              "├─────────────────────┼───────────────────┼────────────┼───────────────────┤\n",
              "│ add_1 (\u001b[38;5;33mAdd\u001b[0m)         │ (\u001b[38;5;45mNone\u001b[0m, \u001b[38;5;34m77\u001b[0m, \u001b[38;5;34m64\u001b[0m)    │          \u001b[38;5;34m0\u001b[0m │ layer_normalizat… │\n",
              "│                     │                   │            │ dense_1[\u001b[38;5;34m0\u001b[0m][\u001b[38;5;34m0\u001b[0m]     │\n",
              "├─────────────────────┼───────────────────┼────────────┼───────────────────┤\n",
              "│ layer_normalizatio… │ (\u001b[38;5;45mNone\u001b[0m, \u001b[38;5;34m77\u001b[0m, \u001b[38;5;34m64\u001b[0m)    │        \u001b[38;5;34m128\u001b[0m │ add_1[\u001b[38;5;34m0\u001b[0m][\u001b[38;5;34m0\u001b[0m]       │\n",
              "│ (\u001b[38;5;33mLayerNormalizatio…\u001b[0m │                   │            │                   │\n",
              "├─────────────────────┼───────────────────┼────────────┼───────────────────┤\n",
              "│ global_average_poo… │ (\u001b[38;5;45mNone\u001b[0m, \u001b[38;5;34m64\u001b[0m)        │          \u001b[38;5;34m0\u001b[0m │ layer_normalizat… │\n",
              "│ (\u001b[38;5;33mGlobalAveragePool…\u001b[0m │                   │            │                   │\n",
              "├─────────────────────┼───────────────────┼────────────┼───────────────────┤\n",
              "│ dense_2 (\u001b[38;5;33mDense\u001b[0m)     │ (\u001b[38;5;45mNone\u001b[0m, \u001b[38;5;34m128\u001b[0m)       │      \u001b[38;5;34m8,320\u001b[0m │ global_average_p… │\n",
              "├─────────────────────┼───────────────────┼────────────┼───────────────────┤\n",
              "│ dropout_1 (\u001b[38;5;33mDropout\u001b[0m) │ (\u001b[38;5;45mNone\u001b[0m, \u001b[38;5;34m128\u001b[0m)       │          \u001b[38;5;34m0\u001b[0m │ dense_2[\u001b[38;5;34m0\u001b[0m][\u001b[38;5;34m0\u001b[0m]     │\n",
              "├─────────────────────┼───────────────────┼────────────┼───────────────────┤\n",
              "│ dense_3 (\u001b[38;5;33mDense\u001b[0m)     │ (\u001b[38;5;45mNone\u001b[0m, \u001b[38;5;34m64\u001b[0m)        │      \u001b[38;5;34m8,256\u001b[0m │ dropout_1[\u001b[38;5;34m0\u001b[0m][\u001b[38;5;34m0\u001b[0m]   │\n",
              "├─────────────────────┼───────────────────┼────────────┼───────────────────┤\n",
              "│ dropout_2 (\u001b[38;5;33mDropout\u001b[0m) │ (\u001b[38;5;45mNone\u001b[0m, \u001b[38;5;34m64\u001b[0m)        │          \u001b[38;5;34m0\u001b[0m │ dense_3[\u001b[38;5;34m0\u001b[0m][\u001b[38;5;34m0\u001b[0m]     │\n",
              "├─────────────────────┼───────────────────┼────────────┼───────────────────┤\n",
              "│ dense_4 (\u001b[38;5;33mDense\u001b[0m)     │ (\u001b[38;5;45mNone\u001b[0m, \u001b[38;5;34m8\u001b[0m)         │        \u001b[38;5;34m520\u001b[0m │ dropout_2[\u001b[38;5;34m0\u001b[0m][\u001b[38;5;34m0\u001b[0m]   │\n",
              "└─────────────────────┴───────────────────┴────────────┴───────────────────┘\n"
            ],
            "text/html": [
              "<pre style=\"white-space:pre;overflow-x:auto;line-height:normal;font-family:Menlo,'DejaVu Sans Mono',consolas,'Courier New',monospace\">┏━━━━━━━━━━━━━━━━━━━━━┳━━━━━━━━━━━━━━━━━━━┳━━━━━━━━━━━━┳━━━━━━━━━━━━━━━━━━━┓\n",
              "┃<span style=\"font-weight: bold\"> Layer (type)        </span>┃<span style=\"font-weight: bold\"> Output Shape      </span>┃<span style=\"font-weight: bold\">    Param # </span>┃<span style=\"font-weight: bold\"> Connected to      </span>┃\n",
              "┡━━━━━━━━━━━━━━━━━━━━━╇━━━━━━━━━━━━━━━━━━━╇━━━━━━━━━━━━╇━━━━━━━━━━━━━━━━━━━┩\n",
              "│ input_layer         │ (<span style=\"color: #00d7ff; text-decoration-color: #00d7ff\">None</span>, <span style=\"color: #00af00; text-decoration-color: #00af00\">77</span>, <span style=\"color: #00af00; text-decoration-color: #00af00\">1</span>)     │          <span style=\"color: #00af00; text-decoration-color: #00af00\">0</span> │ -                 │\n",
              "│ (<span style=\"color: #0087ff; text-decoration-color: #0087ff\">InputLayer</span>)        │                   │            │                   │\n",
              "├─────────────────────┼───────────────────┼────────────┼───────────────────┤\n",
              "│ conv1d (<span style=\"color: #0087ff; text-decoration-color: #0087ff\">Conv1D</span>)     │ (<span style=\"color: #00d7ff; text-decoration-color: #00d7ff\">None</span>, <span style=\"color: #00af00; text-decoration-color: #00af00\">77</span>, <span style=\"color: #00af00; text-decoration-color: #00af00\">64</span>)    │        <span style=\"color: #00af00; text-decoration-color: #00af00\">256</span> │ input_layer[<span style=\"color: #00af00; text-decoration-color: #00af00\">0</span>][<span style=\"color: #00af00; text-decoration-color: #00af00\">0</span>] │\n",
              "├─────────────────────┼───────────────────┼────────────┼───────────────────┤\n",
              "│ conv1d_1 (<span style=\"color: #0087ff; text-decoration-color: #0087ff\">Conv1D</span>)   │ (<span style=\"color: #00d7ff; text-decoration-color: #00d7ff\">None</span>, <span style=\"color: #00af00; text-decoration-color: #00af00\">77</span>, <span style=\"color: #00af00; text-decoration-color: #00af00\">64</span>)    │     <span style=\"color: #00af00; text-decoration-color: #00af00\">12,352</span> │ conv1d[<span style=\"color: #00af00; text-decoration-color: #00af00\">0</span>][<span style=\"color: #00af00; text-decoration-color: #00af00\">0</span>]      │\n",
              "├─────────────────────┼───────────────────┼────────────┼───────────────────┤\n",
              "│ multi_head_attenti… │ (<span style=\"color: #00d7ff; text-decoration-color: #00d7ff\">None</span>, <span style=\"color: #00af00; text-decoration-color: #00af00\">77</span>, <span style=\"color: #00af00; text-decoration-color: #00af00\">64</span>)    │     <span style=\"color: #00af00; text-decoration-color: #00af00\">66,368</span> │ conv1d_1[<span style=\"color: #00af00; text-decoration-color: #00af00\">0</span>][<span style=\"color: #00af00; text-decoration-color: #00af00\">0</span>],   │\n",
              "│ (<span style=\"color: #0087ff; text-decoration-color: #0087ff\">MultiHeadAttentio…</span> │                   │            │ conv1d_1[<span style=\"color: #00af00; text-decoration-color: #00af00\">0</span>][<span style=\"color: #00af00; text-decoration-color: #00af00\">0</span>]    │\n",
              "├─────────────────────┼───────────────────┼────────────┼───────────────────┤\n",
              "│ add (<span style=\"color: #0087ff; text-decoration-color: #0087ff\">Add</span>)           │ (<span style=\"color: #00d7ff; text-decoration-color: #00d7ff\">None</span>, <span style=\"color: #00af00; text-decoration-color: #00af00\">77</span>, <span style=\"color: #00af00; text-decoration-color: #00af00\">64</span>)    │          <span style=\"color: #00af00; text-decoration-color: #00af00\">0</span> │ conv1d_1[<span style=\"color: #00af00; text-decoration-color: #00af00\">0</span>][<span style=\"color: #00af00; text-decoration-color: #00af00\">0</span>],   │\n",
              "│                     │                   │            │ multi_head_atten… │\n",
              "├─────────────────────┼───────────────────┼────────────┼───────────────────┤\n",
              "│ layer_normalization │ (<span style=\"color: #00d7ff; text-decoration-color: #00d7ff\">None</span>, <span style=\"color: #00af00; text-decoration-color: #00af00\">77</span>, <span style=\"color: #00af00; text-decoration-color: #00af00\">64</span>)    │        <span style=\"color: #00af00; text-decoration-color: #00af00\">128</span> │ add[<span style=\"color: #00af00; text-decoration-color: #00af00\">0</span>][<span style=\"color: #00af00; text-decoration-color: #00af00\">0</span>]         │\n",
              "│ (<span style=\"color: #0087ff; text-decoration-color: #0087ff\">LayerNormalizatio…</span> │                   │            │                   │\n",
              "├─────────────────────┼───────────────────┼────────────┼───────────────────┤\n",
              "│ dense (<span style=\"color: #0087ff; text-decoration-color: #0087ff\">Dense</span>)       │ (<span style=\"color: #00d7ff; text-decoration-color: #00d7ff\">None</span>, <span style=\"color: #00af00; text-decoration-color: #00af00\">77</span>, <span style=\"color: #00af00; text-decoration-color: #00af00\">128</span>)   │      <span style=\"color: #00af00; text-decoration-color: #00af00\">8,320</span> │ layer_normalizat… │\n",
              "├─────────────────────┼───────────────────┼────────────┼───────────────────┤\n",
              "│ dense_1 (<span style=\"color: #0087ff; text-decoration-color: #0087ff\">Dense</span>)     │ (<span style=\"color: #00d7ff; text-decoration-color: #00d7ff\">None</span>, <span style=\"color: #00af00; text-decoration-color: #00af00\">77</span>, <span style=\"color: #00af00; text-decoration-color: #00af00\">64</span>)    │      <span style=\"color: #00af00; text-decoration-color: #00af00\">8,256</span> │ dense[<span style=\"color: #00af00; text-decoration-color: #00af00\">0</span>][<span style=\"color: #00af00; text-decoration-color: #00af00\">0</span>]       │\n",
              "├─────────────────────┼───────────────────┼────────────┼───────────────────┤\n",
              "│ add_1 (<span style=\"color: #0087ff; text-decoration-color: #0087ff\">Add</span>)         │ (<span style=\"color: #00d7ff; text-decoration-color: #00d7ff\">None</span>, <span style=\"color: #00af00; text-decoration-color: #00af00\">77</span>, <span style=\"color: #00af00; text-decoration-color: #00af00\">64</span>)    │          <span style=\"color: #00af00; text-decoration-color: #00af00\">0</span> │ layer_normalizat… │\n",
              "│                     │                   │            │ dense_1[<span style=\"color: #00af00; text-decoration-color: #00af00\">0</span>][<span style=\"color: #00af00; text-decoration-color: #00af00\">0</span>]     │\n",
              "├─────────────────────┼───────────────────┼────────────┼───────────────────┤\n",
              "│ layer_normalizatio… │ (<span style=\"color: #00d7ff; text-decoration-color: #00d7ff\">None</span>, <span style=\"color: #00af00; text-decoration-color: #00af00\">77</span>, <span style=\"color: #00af00; text-decoration-color: #00af00\">64</span>)    │        <span style=\"color: #00af00; text-decoration-color: #00af00\">128</span> │ add_1[<span style=\"color: #00af00; text-decoration-color: #00af00\">0</span>][<span style=\"color: #00af00; text-decoration-color: #00af00\">0</span>]       │\n",
              "│ (<span style=\"color: #0087ff; text-decoration-color: #0087ff\">LayerNormalizatio…</span> │                   │            │                   │\n",
              "├─────────────────────┼───────────────────┼────────────┼───────────────────┤\n",
              "│ global_average_poo… │ (<span style=\"color: #00d7ff; text-decoration-color: #00d7ff\">None</span>, <span style=\"color: #00af00; text-decoration-color: #00af00\">64</span>)        │          <span style=\"color: #00af00; text-decoration-color: #00af00\">0</span> │ layer_normalizat… │\n",
              "│ (<span style=\"color: #0087ff; text-decoration-color: #0087ff\">GlobalAveragePool…</span> │                   │            │                   │\n",
              "├─────────────────────┼───────────────────┼────────────┼───────────────────┤\n",
              "│ dense_2 (<span style=\"color: #0087ff; text-decoration-color: #0087ff\">Dense</span>)     │ (<span style=\"color: #00d7ff; text-decoration-color: #00d7ff\">None</span>, <span style=\"color: #00af00; text-decoration-color: #00af00\">128</span>)       │      <span style=\"color: #00af00; text-decoration-color: #00af00\">8,320</span> │ global_average_p… │\n",
              "├─────────────────────┼───────────────────┼────────────┼───────────────────┤\n",
              "│ dropout_1 (<span style=\"color: #0087ff; text-decoration-color: #0087ff\">Dropout</span>) │ (<span style=\"color: #00d7ff; text-decoration-color: #00d7ff\">None</span>, <span style=\"color: #00af00; text-decoration-color: #00af00\">128</span>)       │          <span style=\"color: #00af00; text-decoration-color: #00af00\">0</span> │ dense_2[<span style=\"color: #00af00; text-decoration-color: #00af00\">0</span>][<span style=\"color: #00af00; text-decoration-color: #00af00\">0</span>]     │\n",
              "├─────────────────────┼───────────────────┼────────────┼───────────────────┤\n",
              "│ dense_3 (<span style=\"color: #0087ff; text-decoration-color: #0087ff\">Dense</span>)     │ (<span style=\"color: #00d7ff; text-decoration-color: #00d7ff\">None</span>, <span style=\"color: #00af00; text-decoration-color: #00af00\">64</span>)        │      <span style=\"color: #00af00; text-decoration-color: #00af00\">8,256</span> │ dropout_1[<span style=\"color: #00af00; text-decoration-color: #00af00\">0</span>][<span style=\"color: #00af00; text-decoration-color: #00af00\">0</span>]   │\n",
              "├─────────────────────┼───────────────────┼────────────┼───────────────────┤\n",
              "│ dropout_2 (<span style=\"color: #0087ff; text-decoration-color: #0087ff\">Dropout</span>) │ (<span style=\"color: #00d7ff; text-decoration-color: #00d7ff\">None</span>, <span style=\"color: #00af00; text-decoration-color: #00af00\">64</span>)        │          <span style=\"color: #00af00; text-decoration-color: #00af00\">0</span> │ dense_3[<span style=\"color: #00af00; text-decoration-color: #00af00\">0</span>][<span style=\"color: #00af00; text-decoration-color: #00af00\">0</span>]     │\n",
              "├─────────────────────┼───────────────────┼────────────┼───────────────────┤\n",
              "│ dense_4 (<span style=\"color: #0087ff; text-decoration-color: #0087ff\">Dense</span>)     │ (<span style=\"color: #00d7ff; text-decoration-color: #00d7ff\">None</span>, <span style=\"color: #00af00; text-decoration-color: #00af00\">8</span>)         │        <span style=\"color: #00af00; text-decoration-color: #00af00\">520</span> │ dropout_2[<span style=\"color: #00af00; text-decoration-color: #00af00\">0</span>][<span style=\"color: #00af00; text-decoration-color: #00af00\">0</span>]   │\n",
              "└─────────────────────┴───────────────────┴────────────┴───────────────────┘\n",
              "</pre>\n"
            ]
          },
          "metadata": {}
        },
        {
          "output_type": "display_data",
          "data": {
            "text/plain": [
              "\u001b[1m Total params: \u001b[0m\u001b[38;5;34m112,904\u001b[0m (441.03 KB)\n"
            ],
            "text/html": [
              "<pre style=\"white-space:pre;overflow-x:auto;line-height:normal;font-family:Menlo,'DejaVu Sans Mono',consolas,'Courier New',monospace\"><span style=\"font-weight: bold\"> Total params: </span><span style=\"color: #00af00; text-decoration-color: #00af00\">112,904</span> (441.03 KB)\n",
              "</pre>\n"
            ]
          },
          "metadata": {}
        },
        {
          "output_type": "display_data",
          "data": {
            "text/plain": [
              "\u001b[1m Trainable params: \u001b[0m\u001b[38;5;34m112,904\u001b[0m (441.03 KB)\n"
            ],
            "text/html": [
              "<pre style=\"white-space:pre;overflow-x:auto;line-height:normal;font-family:Menlo,'DejaVu Sans Mono',consolas,'Courier New',monospace\"><span style=\"font-weight: bold\"> Trainable params: </span><span style=\"color: #00af00; text-decoration-color: #00af00\">112,904</span> (441.03 KB)\n",
              "</pre>\n"
            ]
          },
          "metadata": {}
        },
        {
          "output_type": "display_data",
          "data": {
            "text/plain": [
              "\u001b[1m Non-trainable params: \u001b[0m\u001b[38;5;34m0\u001b[0m (0.00 B)\n"
            ],
            "text/html": [
              "<pre style=\"white-space:pre;overflow-x:auto;line-height:normal;font-family:Menlo,'DejaVu Sans Mono',consolas,'Courier New',monospace\"><span style=\"font-weight: bold\"> Non-trainable params: </span><span style=\"color: #00af00; text-decoration-color: #00af00\">0</span> (0.00 B)\n",
              "</pre>\n"
            ]
          },
          "metadata": {}
        },
        {
          "output_type": "stream",
          "name": "stdout",
          "text": [
            "[7단계 완료] 모델 구축 완료\n"
          ]
        }
      ]
    },
    {
      "cell_type": "code",
      "source": [
        "# ==========================\n",
        "# 8. 모델 학습\n",
        "# ==========================\n",
        "history = model.fit(\n",
        "    X_train_reshaped, y_train,\n",
        "    epochs=20, batch_size=64,\n",
        "    validation_split=0.2,\n",
        "    callbacks=[tf.keras.callbacks.EarlyStopping(patience=3, restore_best_weights=True)]\n",
        ")\n",
        "\n",
        "print(\"[8단계 완료] 모델 학습 완료\")"
      ],
      "metadata": {
        "colab": {
          "base_uri": "https://localhost:8080/"
        },
        "id": "Oz2UBViCAF1q",
        "outputId": "341fa7b4-a100-4fea-ad48-33eb3b2d45a3"
      },
      "execution_count": 16,
      "outputs": [
        {
          "output_type": "stream",
          "name": "stdout",
          "text": [
            "Epoch 1/20\n",
            "\u001b[1m800/800\u001b[0m \u001b[32m━━━━━━━━━━━━━━━━━━━━\u001b[0m\u001b[37m\u001b[0m \u001b[1m70s\u001b[0m 83ms/step - accuracy: 0.5477 - loss: 1.1876 - val_accuracy: 0.9047 - val_loss: 0.2778\n",
            "Epoch 2/20\n",
            "\u001b[1m800/800\u001b[0m \u001b[32m━━━━━━━━━━━━━━━━━━━━\u001b[0m\u001b[37m\u001b[0m \u001b[1m64s\u001b[0m 80ms/step - accuracy: 0.8924 - loss: 0.3371 - val_accuracy: 0.9291 - val_loss: 0.2149\n",
            "Epoch 3/20\n",
            "\u001b[1m800/800\u001b[0m \u001b[32m━━━━━━━━━━━━━━━━━━━━\u001b[0m\u001b[37m\u001b[0m \u001b[1m64s\u001b[0m 79ms/step - accuracy: 0.9205 - loss: 0.2486 - val_accuracy: 0.9142 - val_loss: 0.3050\n",
            "Epoch 4/20\n",
            "\u001b[1m800/800\u001b[0m \u001b[32m━━━━━━━━━━━━━━━━━━━━\u001b[0m\u001b[37m\u001b[0m \u001b[1m61s\u001b[0m 76ms/step - accuracy: 0.9250 - loss: 0.2312 - val_accuracy: 0.9449 - val_loss: 0.1551\n",
            "Epoch 5/20\n",
            "\u001b[1m800/800\u001b[0m \u001b[32m━━━━━━━━━━━━━━━━━━━━\u001b[0m\u001b[37m\u001b[0m \u001b[1m65s\u001b[0m 81ms/step - accuracy: 0.9373 - loss: 0.1916 - val_accuracy: 0.9420 - val_loss: 0.1601\n",
            "Epoch 6/20\n",
            "\u001b[1m800/800\u001b[0m \u001b[32m━━━━━━━━━━━━━━━━━━━━\u001b[0m\u001b[37m\u001b[0m \u001b[1m64s\u001b[0m 80ms/step - accuracy: 0.9284 - loss: 0.2266 - val_accuracy: 0.9470 - val_loss: 0.1475\n",
            "Epoch 7/20\n",
            "\u001b[1m800/800\u001b[0m \u001b[32m━━━━━━━━━━━━━━━━━━━━\u001b[0m\u001b[37m\u001b[0m \u001b[1m64s\u001b[0m 80ms/step - accuracy: 0.9439 - loss: 0.1719 - val_accuracy: 0.9544 - val_loss: 0.1363\n",
            "Epoch 8/20\n",
            "\u001b[1m800/800\u001b[0m \u001b[32m━━━━━━━━━━━━━━━━━━━━\u001b[0m\u001b[37m\u001b[0m \u001b[1m63s\u001b[0m 79ms/step - accuracy: 0.9492 - loss: 0.1556 - val_accuracy: 0.9373 - val_loss: 0.1968\n",
            "Epoch 9/20\n",
            "\u001b[1m800/800\u001b[0m \u001b[32m━━━━━━━━━━━━━━━━━━━━\u001b[0m\u001b[37m\u001b[0m \u001b[1m62s\u001b[0m 78ms/step - accuracy: 0.9454 - loss: 0.1705 - val_accuracy: 0.9577 - val_loss: 0.1342\n",
            "Epoch 10/20\n",
            "\u001b[1m800/800\u001b[0m \u001b[32m━━━━━━━━━━━━━━━━━━━━\u001b[0m\u001b[37m\u001b[0m \u001b[1m63s\u001b[0m 78ms/step - accuracy: 0.9542 - loss: 0.1415 - val_accuracy: 0.9577 - val_loss: 0.1199\n",
            "Epoch 11/20\n",
            "\u001b[1m800/800\u001b[0m \u001b[32m━━━━━━━━━━━━━━━━━━━━\u001b[0m\u001b[37m\u001b[0m \u001b[1m64s\u001b[0m 80ms/step - accuracy: 0.9507 - loss: 0.1508 - val_accuracy: 0.9609 - val_loss: 0.1171\n",
            "Epoch 12/20\n",
            "\u001b[1m800/800\u001b[0m \u001b[32m━━━━━━━━━━━━━━━━━━━━\u001b[0m\u001b[37m\u001b[0m \u001b[1m62s\u001b[0m 78ms/step - accuracy: 0.9530 - loss: 0.1465 - val_accuracy: 0.9630 - val_loss: 0.1274\n",
            "Epoch 13/20\n",
            "\u001b[1m800/800\u001b[0m \u001b[32m━━━━━━━━━━━━━━━━━━━━\u001b[0m\u001b[37m\u001b[0m \u001b[1m61s\u001b[0m 76ms/step - accuracy: 0.9547 - loss: 0.1375 - val_accuracy: 0.9585 - val_loss: 0.1331\n",
            "Epoch 14/20\n",
            "\u001b[1m800/800\u001b[0m \u001b[32m━━━━━━━━━━━━━━━━━━━━\u001b[0m\u001b[37m\u001b[0m \u001b[1m61s\u001b[0m 77ms/step - accuracy: 0.9556 - loss: 0.1341 - val_accuracy: 0.9688 - val_loss: 0.1133\n",
            "Epoch 15/20\n",
            "\u001b[1m800/800\u001b[0m \u001b[32m━━━━━━━━━━━━━━━━━━━━\u001b[0m\u001b[37m\u001b[0m \u001b[1m64s\u001b[0m 80ms/step - accuracy: 0.9603 - loss: 0.1207 - val_accuracy: 0.9631 - val_loss: 0.1092\n",
            "Epoch 16/20\n",
            "\u001b[1m800/800\u001b[0m \u001b[32m━━━━━━━━━━━━━━━━━━━━\u001b[0m\u001b[37m\u001b[0m \u001b[1m63s\u001b[0m 78ms/step - accuracy: 0.9597 - loss: 0.1241 - val_accuracy: 0.9670 - val_loss: 0.1060\n",
            "Epoch 17/20\n",
            "\u001b[1m800/800\u001b[0m \u001b[32m━━━━━━━━━━━━━━━━━━━━\u001b[0m\u001b[37m\u001b[0m \u001b[1m64s\u001b[0m 80ms/step - accuracy: 0.9619 - loss: 0.1198 - val_accuracy: 0.9645 - val_loss: 0.1028\n",
            "Epoch 18/20\n",
            "\u001b[1m800/800\u001b[0m \u001b[32m━━━━━━━━━━━━━━━━━━━━\u001b[0m\u001b[37m\u001b[0m \u001b[1m63s\u001b[0m 79ms/step - accuracy: 0.9654 - loss: 0.1097 - val_accuracy: 0.9704 - val_loss: 0.0939\n",
            "Epoch 19/20\n",
            "\u001b[1m800/800\u001b[0m \u001b[32m━━━━━━━━━━━━━━━━━━━━\u001b[0m\u001b[37m\u001b[0m \u001b[1m63s\u001b[0m 79ms/step - accuracy: 0.9659 - loss: 0.1129 - val_accuracy: 0.9697 - val_loss: 0.0962\n",
            "Epoch 20/20\n",
            "\u001b[1m800/800\u001b[0m \u001b[32m━━━━━━━━━━━━━━━━━━━━\u001b[0m\u001b[37m\u001b[0m \u001b[1m65s\u001b[0m 81ms/step - accuracy: 0.9667 - loss: 0.1065 - val_accuracy: 0.9702 - val_loss: 0.0972\n",
            "[8단계 완료] 모델 학습 완료\n"
          ]
        }
      ]
    },
    {
      "cell_type": "code",
      "source": [
        "from sklearn.metrics import classification_report, confusion_matrix\n",
        "import seaborn as sns\n",
        "import matplotlib.pyplot as plt\n",
        "import numpy as np\n",
        "\n",
        "# ==========================\n",
        "# 9. 성능 평가\n",
        "# ==========================\n",
        "\n",
        "# 예측\n",
        "y_pred_probs = model.predict(X_test_reshaped)\n",
        "y_pred = np.argmax(y_pred_probs, axis=1)\n",
        "\n",
        "# 1) Classification Report\n",
        "print(\"\\nClassification Report:\")\n",
        "print(classification_report(y_test, y_pred, target_names=labelencoder.classes_))\n",
        "\n",
        "# 2) Confusion Matrix\n",
        "cm = confusion_matrix(y_test, y_pred)\n",
        "plt.figure(figsize=(10,8))\n",
        "sns.heatmap(cm, annot=True, fmt=\"d\", cmap=\"Blues\", xticklabels=labelencoder.classes_, yticklabels=labelencoder.classes_)\n",
        "plt.title(\"Confusion Matrix\")\n",
        "plt.xlabel(\"Predicted\")\n",
        "plt.ylabel(\"True\")\n",
        "plt.show()\n"
      ],
      "metadata": {
        "colab": {
          "base_uri": "https://localhost:8080/",
          "height": 1000
        },
        "id": "IhA0-EhKnqOk",
        "outputId": "e1f4bc24-6cbe-4862-bc81-c6bd18a5e034"
      },
      "execution_count": 17,
      "outputs": [
        {
          "output_type": "stream",
          "name": "stdout",
          "text": [
            "\u001b[1m500/500\u001b[0m \u001b[32m━━━━━━━━━━━━━━━━━━━━\u001b[0m\u001b[37m\u001b[0m \u001b[1m10s\u001b[0m 20ms/step\n",
            "\n",
            "Classification Report:\n",
            "              precision    recall  f1-score   support\n",
            "\n",
            "      Botnet       0.97      1.00      0.98      2000\n",
            "         DoS       0.95      0.97      0.96      2000\n",
            "  Heartbleed       1.00      1.00      1.00      2000\n",
            "Infiltration       0.99      1.00      0.99      2000\n",
            "      Normal       0.97      0.86      0.91      2000\n",
            "       Other       0.93      1.00      0.96      2000\n",
            "    PortScan       0.98      1.00      0.99      2000\n",
            "  Web Attack       0.98      0.95      0.97      2000\n",
            "\n",
            "    accuracy                           0.97     16000\n",
            "   macro avg       0.97      0.97      0.97     16000\n",
            "weighted avg       0.97      0.97      0.97     16000\n",
            "\n"
          ]
        },
        {
          "output_type": "display_data",
          "data": {
            "text/plain": [
              "<Figure size 1000x800 with 2 Axes>"
            ],
            "image/png": "[encoded data removed]"
          },
          "metadata": {}
        }
      ]
    },
    {
      "cell_type": "code",
      "source": [
        "import numpy as np\n",
        "import tensorflow as tf\n",
        "from sklearn.metrics import f1_score\n",
        "from tqdm import tqdm\n",
        "\n",
        "print(\"[시작] 클래스별 Permutation Feature Importance 계산\")\n",
        "\n",
        "# 1. 전체 baseline 성능 계산\n",
        "X_test_flat = X_test_reshaped.squeeze(axis=2)  # (batch_size, feature_dim)\n",
        "y_pred_baseline = np.argmax(model.predict(X_test_reshaped, verbose=0), axis=1)\n",
        "baseline_f1 = f1_score(y_test, y_pred_baseline, average='macro')\n",
        "\n",
        "print(f\"[Baseline F1] 전체 데이터 기준: {baseline_f1:.4f}\")\n",
        "\n",
        "# 2. 클래스별 인덱스 나누기\n",
        "class_indices = {i: np.where(y_test == i)[0] for i in np.unique(y_test)}"
      ],
      "metadata": {
        "colab": {
          "base_uri": "https://localhost:8080/"
        },
        "id": "Kou4DxRJnrkv",
        "outputId": "1adb5b4c-344c-45c4-93ee-453c463cc451"
      },
      "execution_count": 30,
      "outputs": [
        {
          "output_type": "stream",
          "name": "stdout",
          "text": [
            "[시작] 클래스별 Permutation Feature Importance 계산\n",
            "[Baseline F1] 전체 데이터 기준: 0.9713\n"
          ]
        }
      ]
    },
    {
      "cell_type": "code",
      "source": [
        "# 3. 클래스별 Feature Importance 계산\n",
        "feature_importance_per_class = {}\n",
        "num_features = X_test_flat.shape[1]\n",
        "\n",
        "for class_label, indices in class_indices.items():\n",
        "    print(f\"\\n[진행중] 클래스 {class_label}\")\n",
        "\n",
        "    X_class = X_test_flat[indices]\n",
        "    y_class = y_test[indices]\n",
        "\n",
        "    # 클래스별 baseline 성능\n",
        "    X_class_reshaped = np.expand_dims(X_class, axis=2)\n",
        "    y_pred_class_baseline = np.argmax(model.predict(X_class_reshaped, verbose=0), axis=1)\n",
        "    class_baseline_f1 = f1_score(y_class, y_pred_class_baseline, average='macro')\n",
        "\n",
        "    importances = []\n",
        "\n",
        "    for feature_idx in tqdm(range(num_features)):\n",
        "        X_permuted = X_class.copy()\n",
        "        np.random.shuffle(X_permuted[:, feature_idx])  # Feature 하나만 무작위로 섞음\n",
        "        X_permuted_reshaped = np.expand_dims(X_permuted, axis=2)\n",
        "\n",
        "        y_pred_permuted = np.argmax(model.predict(X_permuted_reshaped, verbose=0), axis=1)\n",
        "        permuted_f1 = f1_score(y_class, y_pred_permuted, average='macro')\n",
        "\n",
        "        importance = class_baseline_f1 - permuted_f1  # F1-score 하락폭\n",
        "        importances.append(importance)\n",
        "\n",
        "    feature_importance_per_class[class_label] = np.array(importances)\n",
        "\n",
        "    print(f\"[완료] 클래스 {class_label} Feature Importance 계산 성공\")"
      ],
      "metadata": {
        "colab": {
          "base_uri": "https://localhost:8080/"
        },
        "id": "YpjA_mcCaXRl",
        "outputId": "1636be34-4f11-4b64-fbd5-a741512c4052"
      },
      "execution_count": 31,
      "outputs": [
        {
          "output_type": "stream",
          "name": "stdout",
          "text": [
            "\n",
            "[진행중] 클래스 0\n"
          ]
        },
        {
          "output_type": "stream",
          "name": "stderr",
          "text": [
            "100%|██████████| 77/77 [01:39<00:00,  1.29s/it]\n"
          ]
        },
        {
          "output_type": "stream",
          "name": "stdout",
          "text": [
            "[완료] 클래스 0 Feature Importance 계산 성공\n",
            "\n",
            "[진행중] 클래스 1\n"
          ]
        },
        {
          "output_type": "stream",
          "name": "stderr",
          "text": [
            "100%|██████████| 77/77 [01:37<00:00,  1.27s/it]\n"
          ]
        },
        {
          "output_type": "stream",
          "name": "stdout",
          "text": [
            "[완료] 클래스 1 Feature Importance 계산 성공\n",
            "\n",
            "[진행중] 클래스 2\n"
          ]
        },
        {
          "output_type": "stream",
          "name": "stderr",
          "text": [
            "100%|██████████| 77/77 [01:38<00:00,  1.28s/it]\n"
          ]
        },
        {
          "output_type": "stream",
          "name": "stdout",
          "text": [
            "[완료] 클래스 2 Feature Importance 계산 성공\n",
            "\n",
            "[진행중] 클래스 3\n"
          ]
        },
        {
          "output_type": "stream",
          "name": "stderr",
          "text": [
            "100%|██████████| 77/77 [01:39<00:00,  1.30s/it]\n"
          ]
        },
        {
          "output_type": "stream",
          "name": "stdout",
          "text": [
            "[완료] 클래스 3 Feature Importance 계산 성공\n",
            "\n",
            "[진행중] 클래스 4\n"
          ]
        },
        {
          "output_type": "stream",
          "name": "stderr",
          "text": [
            "100%|██████████| 77/77 [01:42<00:00,  1.33s/it]\n"
          ]
        },
        {
          "output_type": "stream",
          "name": "stdout",
          "text": [
            "[완료] 클래스 4 Feature Importance 계산 성공\n",
            "\n",
            "[진행중] 클래스 5\n"
          ]
        },
        {
          "output_type": "stream",
          "name": "stderr",
          "text": [
            "100%|██████████| 77/77 [01:41<00:00,  1.32s/it]\n"
          ]
        },
        {
          "output_type": "stream",
          "name": "stdout",
          "text": [
            "[완료] 클래스 5 Feature Importance 계산 성공\n",
            "\n",
            "[진행중] 클래스 6\n"
          ]
        },
        {
          "output_type": "stream",
          "name": "stderr",
          "text": [
            "100%|██████████| 77/77 [01:41<00:00,  1.32s/it]\n"
          ]
        },
        {
          "output_type": "stream",
          "name": "stdout",
          "text": [
            "[완료] 클래스 6 Feature Importance 계산 성공\n",
            "\n",
            "[진행중] 클래스 7\n"
          ]
        },
        {
          "output_type": "stream",
          "name": "stderr",
          "text": [
            "100%|██████████| 77/77 [01:39<00:00,  1.29s/it]"
          ]
        },
        {
          "output_type": "stream",
          "name": "stdout",
          "text": [
            "[완료] 클래스 7 Feature Importance 계산 성공\n"
          ]
        },
        {
          "output_type": "stream",
          "name": "stderr",
          "text": [
            "\n"
          ]
        }
      ]
    },
    {
      "cell_type": "code",
      "source": [
        "# y_test 라벨 종류와 순서 출력\n",
        "unique_labels = np.unique(y_test)\n",
        "\n",
        "# 반드시 실행\n",
        "print(\"\\n[Label 디코딩 매핑 확인]\")\n",
        "for idx, class_name in enumerate(labelencoder.classes_):\n",
        "    print(f\"{idx}: {class_name}\")\n",
        "\n",
        "# 현재 X 데이터의 컬럼 이름 리스트 출력\n",
        "current_feature_names = X.columns.tolist()\n",
        "\n",
        "print(\"[현재 Feature 목록]\")\n",
        "for idx, feature in enumerate(current_feature_names):\n",
        "    print(f\"{idx}: {feature}\")\n",
        "\n"
      ],
      "metadata": {
        "colab": {
          "base_uri": "https://localhost:8080/"
        },
        "id": "__60PfGIo3sD",
        "outputId": "6d6a91f7-0220-4d91-b442-e5a40cf1d325"
      },
      "execution_count": 35,
      "outputs": [
        {
          "output_type": "stream",
          "name": "stdout",
          "text": [
            "\n",
            "[Label 디코딩 매핑 확인]\n",
            "0: Botnet\n",
            "1: DoS\n",
            "2: Heartbleed\n",
            "3: Infiltration\n",
            "4: Normal\n",
            "5: Other\n",
            "6: PortScan\n",
            "7: Web Attack\n",
            "[현재 Feature 목록]\n",
            "0: Flow Duration\n",
            "1: Total Fwd Packets\n",
            "2: Total Backward Packets\n",
            "3: Total Length of Fwd Packets\n",
            "4: Total Length of Bwd Packets\n",
            "5: Fwd Packet Length Max\n",
            "6: Fwd Packet Length Min\n",
            "7: Fwd Packet Length Mean\n",
            "8: Fwd Packet Length Std\n",
            "9: Bwd Packet Length Max\n",
            "10: Bwd Packet Length Min\n",
            "11: Bwd Packet Length Mean\n",
            "12: Bwd Packet Length Std\n",
            "13: Flow Bytes/s\n",
            "14: Flow Packets/s\n",
            "15: Flow IAT Mean\n",
            "16: Flow IAT Std\n",
            "17: Flow IAT Max\n",
            "18: Flow IAT Min\n",
            "19: Fwd IAT Total\n",
            "20: Fwd IAT Mean\n",
            "21: Fwd IAT Std\n",
            "22: Fwd IAT Max\n",
            "23: Fwd IAT Min\n",
            "24: Bwd IAT Total\n",
            "25: Bwd IAT Mean\n",
            "26: Bwd IAT Std\n",
            "27: Bwd IAT Max\n",
            "28: Bwd IAT Min\n",
            "29: Fwd PSH Flags\n",
            "30: Bwd PSH Flags\n",
            "31: Fwd URG Flags\n",
            "32: Bwd URG Flags\n",
            "33: Fwd Header Length\n",
            "34: Bwd Header Length\n",
            "35: Fwd Packets/s\n",
            "36: Bwd Packets/s\n",
            "37: Min Packet Length\n",
            "38: Max Packet Length\n",
            "39: Packet Length Mean\n",
            "40: Packet Length Std\n",
            "41: Packet Length Variance\n",
            "42: FIN Flag Count\n",
            "43: SYN Flag Count\n",
            "44: RST Flag Count\n",
            "45: PSH Flag Count\n",
            "46: ACK Flag Count\n",
            "47: URG Flag Count\n",
            "48: CWE Flag Count\n",
            "49: ECE Flag Count\n",
            "50: Down/Up Ratio\n",
            "51: Average Packet Size\n",
            "52: Avg Fwd Segment Size\n",
            "53: Avg Bwd Segment Size\n",
            "54: Fwd Header Length.1\n",
            "55: Fwd Avg Bytes/Bulk\n",
            "56: Fwd Avg Packets/Bulk\n",
            "57: Fwd Avg Bulk Rate\n",
            "58: Bwd Avg Bytes/Bulk\n",
            "59: Bwd Avg Packets/Bulk\n",
            "60: Bwd Avg Bulk Rate\n",
            "61: Subflow Fwd Packets\n",
            "62: Subflow Fwd Bytes\n",
            "63: Subflow Bwd Packets\n",
            "64: Subflow Bwd Bytes\n",
            "65: Init_Win_bytes_forward\n",
            "66: Init_Win_bytes_backward\n",
            "67: act_data_pkt_fwd\n",
            "68: min_seg_size_forward\n",
            "69: Active Mean\n",
            "70: Active Std\n",
            "71: Active Max\n",
            "72: Active Min\n",
            "73: Idle Mean\n",
            "74: Idle Std\n",
            "75: Idle Max\n",
            "76: Idle Min\n"
          ]
        }
      ]
    },
    {
      "cell_type": "code",
      "source": [
        "# 4. 클래스별 Top-N Feature 출력\n",
        "TOP_N = 10\n",
        "\n",
        "for class_label, importance_scores in feature_importance_per_class.items():\n",
        "    top_features = np.argsort(importance_scores)[::-1][:TOP_N]\n",
        "    print(f\"\\n[클래스 {class_label}] 중요도 Top {TOP_N} Feature 인덱스:\")\n",
        "    print(top_features)\n",
        "    print(f\"중요도 점수: {importance_scores[top_features]}\")\n"
      ],
      "metadata": {
        "colab": {
          "base_uri": "https://localhost:8080/"
        },
        "id": "-3siaOEbagIz",
        "outputId": "71c70a09-a8fe-4eaf-a5ec-5cf50776eab6"
      },
      "execution_count": 32,
      "outputs": [
        {
          "output_type": "stream",
          "name": "stdout",
          "text": [
            "\n",
            "[클래스 0] 중요도 Top 10 Feature 인덱스:\n",
            "[46 37 47 36 52  8 38 39 66 50]\n",
            "중요도 점수: [0.15614328 0.15474659 0.11961205 0.11700422 0.08898012 0.08793462\n",
            " 0.08780454 0.08760965 0.08683309 0.08599714]\n",
            "\n",
            "[클래스 1] 중요도 Top 10 Feature 인덱스:\n",
            "[38 41 51 11 21  9 50 75 26 15]\n",
            "중요도 점수: [0.07192726 0.06611424 0.05671938 0.05140628 0.04662817 0.04652809\n",
            " 0.04513838 0.04227821 0.04213519 0.04085824]\n",
            "\n",
            "[클래스 2] 중요도 Top 10 Feature 인덱스:\n",
            "[76 75 74 73 72 71 70 69 68 67]\n",
            "중요도 점수: [0. 0. 0. 0. 0. 0. 0. 0. 0. 0.]\n",
            "\n",
            "[클래스 3] 중요도 Top 10 Feature 인덱스:\n",
            "[43 24 52 27 19  5 75 71 46 45]\n",
            "중요도 점수: [0.35218731 0.30682542 0.30634181 0.30586044 0.30485155 0.30416691\n",
            " 0.30244928 0.26570238 0.26226834 0.26226834]\n",
            "\n",
            "[클래스 4] 중요도 Top 10 Feature 인덱스:\n",
            "[50 72  8 52 19 66 22  6 13 14]\n",
            "중요도 점수: [0.01762432 0.01667368 0.01649239 0.01584376 0.00125156 0.00108351\n",
            " 0.0007903  0.00053985 0.00037334 0.00033177]\n",
            "\n",
            "[클래스 5] 중요도 Top 10 Feature 인덱스:\n",
            "[43 65 36  8 45 35 47 46 51 14]\n",
            "중요도 점수: [0.18297288 0.1736181  0.1532713  0.15224117 0.1502095  0.13797317\n",
            " 0.1316247  0.11304218 0.08664668 0.0857462 ]\n",
            "\n",
            "[클래스 6] 중요도 Top 10 Feature 인덱스:\n",
            "[35 24 23 15 66 50 19 27 17 75]\n",
            "중요도 점수: [0.08467564 0.08341683 0.08335422 0.08335422 0.00092012 0.00050125\n",
            " 0.00016692 0.00016692 0.00016692 0.00016692]\n",
            "\n",
            "[클래스 7] 중요도 Top 10 Feature 인덱스:\n",
            "[51  8  7 38 52 47 12 66 65 50]\n",
            "중요도 점수: [0.06000573 0.04151173 0.04078968 0.0372188  0.03653081 0.03517092\n",
            " 0.03356676 0.02509709 0.01022455 0.00676057]\n"
          ]
        }
      ]
    },
    {
      "cell_type": "code",
      "source": [
        "# 데이터셋에서 사용된 라벨 출력\n",
        "print(\"데이터셋에 포함된 라벨 종류:\", np.unique(y))\n"
      ],
      "metadata": {
        "colab": {
          "base_uri": "https://localhost:8080/"
        },
        "id": "OEAEFePHs9o3",
        "outputId": "f238f998-9884-476d-caf9-ee7093018a1a"
      },
      "execution_count": 36,
      "outputs": [
        {
          "output_type": "stream",
          "name": "stdout",
          "text": [
            "데이터셋에 포함된 라벨 종류: [0 1 2 3 4 5 6 7]\n"
          ]
        }
      ]
    }
  ]
}