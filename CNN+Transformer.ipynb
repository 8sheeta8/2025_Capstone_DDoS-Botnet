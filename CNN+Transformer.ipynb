{
  "nbformat": 4,
  "nbformat_minor": 0,
  "metadata": {
    "colab": {
      "provenance": [],
      "machine_shape": "hm",
      "authorship_tag": "ABX9TyN/dMl7nj+2bJDAgwjMvxpc",
      "include_colab_link": true
    },
    "kernelspec": {
      "name": "python3",
      "display_name": "Python 3"
    },
    "language_info": {
      "name": "python"
    }
  },
  "cells": [
    {
      "cell_type": "markdown",
      "metadata": {
        "id": "view-in-github",
        "colab_type": "text"
      },
      "source": [
        "<a href=\"https://colab.research.google.com/github/8sheeta8/2025_Capstone_DDoS-Botnet/blob/main/CNN%2BTransformer.ipynb\" target=\"_parent\"><img src=\"https://colab.research.google.com/assets/colab-badge.svg\" alt=\"Open In Colab\"/></a>"
      ]
    },
    {
      "cell_type": "code",
      "execution_count": null,
      "metadata": {
        "colab": {
          "base_uri": "https://localhost:8080/"
        },
        "id": "aLXXYRh_nZsQ",
        "outputId": "45cc4f3c-4908-4f23-a942-5f05fecafeb5"
      },
      "outputs": [
        {
          "output_type": "stream",
          "name": "stdout",
          "text": [
            "[1단계 완료] 라이브러리 임포트 완료\n"
          ]
        }
      ],
      "source": [
        "# ==========================\n",
        "# 1. 필요한 라이브러리 임포트\n",
        "# ==========================\n",
        "import pandas as pd\n",
        "import numpy as np\n",
        "from sklearn.model_selection import train_test_split\n",
        "from sklearn.preprocessing import LabelEncoder, StandardScaler\n",
        "from imblearn.over_sampling import SMOTE\n",
        "from tensorflow.keras import layers, models\n",
        "import tensorflow as tf\n",
        "\n",
        "print(\"[1단계 완료] 라이브러리 임포트 완료\")"
      ]
    },
    {
      "cell_type": "code",
      "source": [
        "# ==========================\n",
        "# 2. 데이터 불러오기 및 통합\n",
        "# ==========================\n",
        "csv_files = [\n",
        "    '/content/Tuesday-WorkingHours.pcap_ISCX.csv',\n",
        "    '/content/Wednesday-workingHours.pcap_ISCX.csv',\n",
        "    '/content/Thursday-WorkingHours-Morning-WebAttacks.pcap_ISCX.csv',\n",
        "    '/content/Thursday-WorkingHours-Afternoon-Infilteration.pcap_ISCX.csv',\n",
        "    '/content/Friday-WorkingHours-Morning.pcap_ISCX.csv',\n",
        "    '/content/Friday-WorkingHours-Afternoon-DDos.pcap_ISCX.csv',\n",
        "    '/content/Friday-WorkingHours-Afternoon-PortScan.pcap_ISCX.csv'\n",
        "]\n",
        "\n",
        "full_data = pd.concat([pd.read_csv(file) for file in csv_files], ignore_index=True)\n",
        "full_data.columns = full_data.columns.str.strip()  # 컬럼명 공백 제거\n",
        "\n",
        "print(\"[2단계 완료] 데이터 통합 완료\")\n",
        "print(\"전체 데이터 shape:\", full_data.shape)"
      ],
      "metadata": {
        "colab": {
          "base_uri": "https://localhost:8080/"
        },
        "id": "4KlAjViSncuE",
        "outputId": "f94f8d6d-8f69-4713-8ed2-4734a69fc308"
      },
      "execution_count": null,
      "outputs": [
        {
          "output_type": "stream",
          "name": "stdout",
          "text": [
            "[2단계 완료] 데이터 통합 완료\n",
            "전체 데이터 shape: (2300825, 79)\n"
          ]
        }
      ]
    },
    {
      "cell_type": "code",
      "source": [
        "print(full_data.columns)"
      ],
      "metadata": {
        "colab": {
          "base_uri": "https://localhost:8080/"
        },
        "id": "kpkHgKwnp27q",
        "outputId": "f7a0d344-220d-4d98-e589-26a22da54304"
      },
      "execution_count": null,
      "outputs": [
        {
          "output_type": "stream",
          "name": "stdout",
          "text": [
            "Index(['Destination Port', 'Flow Duration', 'Total Fwd Packets',\n",
            "       'Total Backward Packets', 'Total Length of Fwd Packets',\n",
            "       'Total Length of Bwd Packets', 'Fwd Packet Length Max',\n",
            "       'Fwd Packet Length Min', 'Fwd Packet Length Mean',\n",
            "       'Fwd Packet Length Std', 'Bwd Packet Length Max',\n",
            "       'Bwd Packet Length Min', 'Bwd Packet Length Mean',\n",
            "       'Bwd Packet Length Std', 'Flow Bytes/s', 'Flow Packets/s',\n",
            "       'Flow IAT Mean', 'Flow IAT Std', 'Flow IAT Max', 'Flow IAT Min',\n",
            "       'Fwd IAT Total', 'Fwd IAT Mean', 'Fwd IAT Std', 'Fwd IAT Max',\n",
            "       'Fwd IAT Min', 'Bwd IAT Total', 'Bwd IAT Mean', 'Bwd IAT Std',\n",
            "       'Bwd IAT Max', 'Bwd IAT Min', 'Fwd PSH Flags', 'Bwd PSH Flags',\n",
            "       'Fwd URG Flags', 'Bwd URG Flags', 'Fwd Header Length',\n",
            "       'Bwd Header Length', 'Fwd Packets/s', 'Bwd Packets/s',\n",
            "       'Min Packet Length', 'Max Packet Length', 'Packet Length Mean',\n",
            "       'Packet Length Std', 'Packet Length Variance', 'FIN Flag Count',\n",
            "       'SYN Flag Count', 'RST Flag Count', 'PSH Flag Count', 'ACK Flag Count',\n",
            "       'URG Flag Count', 'CWE Flag Count', 'ECE Flag Count', 'Down/Up Ratio',\n",
            "       'Average Packet Size', 'Avg Fwd Segment Size', 'Avg Bwd Segment Size',\n",
            "       'Fwd Header Length.1', 'Fwd Avg Bytes/Bulk', 'Fwd Avg Packets/Bulk',\n",
            "       'Fwd Avg Bulk Rate', 'Bwd Avg Bytes/Bulk', 'Bwd Avg Packets/Bulk',\n",
            "       'Bwd Avg Bulk Rate', 'Subflow Fwd Packets', 'Subflow Fwd Bytes',\n",
            "       'Subflow Bwd Packets', 'Subflow Bwd Bytes', 'Init_Win_bytes_forward',\n",
            "       'Init_Win_bytes_backward', 'act_data_pkt_fwd', 'min_seg_size_forward',\n",
            "       'Active Mean', 'Active Std', 'Active Max', 'Active Min', 'Idle Mean',\n",
            "       'Idle Std', 'Idle Max', 'Idle Min', 'Label'],\n",
            "      dtype='object')\n"
          ]
        }
      ]
    },
    {
      "cell_type": "code",
      "source": [
        "csv_files = [\n",
        "    '/content/Tuesday-WorkingHours.pcap_ISCX.csv',\n",
        "    '/content/Wednesday-workingHours.pcap_ISCX.csv',\n",
        "    '/content/Thursday-WorkingHours-Morning-WebAttacks.pcap_ISCX.csv',\n",
        "    '/content/Thursday-WorkingHours-Afternoon-Infilteration.pcap_ISCX.csv',\n",
        "    '/content/Friday-WorkingHours-Morning.pcap_ISCX.csv',\n",
        "    '/content/Friday-WorkingHours-Afternoon-DDos.pcap_ISCX.csv',\n",
        "    '/content/Friday-WorkingHours-Afternoon-PortScan.pcap_ISCX.csv'\n",
        "]\n",
        "\n",
        "for file in csv_files:\n",
        "    df = pd.read_csv(file)\n",
        "    df.columns = df.columns.str.strip()   # ★ 컬럼명 앞뒤 공백 제거 ★\n",
        "    labels = df['Label'].unique()\n",
        "    print(f\"\\n{file} 파일에 포함된 라벨 종류:\")\n",
        "    print(labels)\n"
      ],
      "metadata": {
        "colab": {
          "base_uri": "https://localhost:8080/"
        },
        "id": "ryXbyy2oqBGp",
        "outputId": "b0dbd2e8-d374-472f-8ed2-42009b75b126"
      },
      "execution_count": null,
      "outputs": [
        {
          "output_type": "stream",
          "name": "stdout",
          "text": [
            "\n",
            "/content/Tuesday-WorkingHours.pcap_ISCX.csv 파일에 포함된 라벨 종류:\n",
            "['BENIGN' 'FTP-Patator' 'SSH-Patator']\n",
            "\n",
            "/content/Wednesday-workingHours.pcap_ISCX.csv 파일에 포함된 라벨 종류:\n",
            "['BENIGN' 'DoS slowloris' 'DoS Slowhttptest' 'DoS Hulk' 'DoS GoldenEye'\n",
            " 'Heartbleed']\n",
            "\n",
            "/content/Thursday-WorkingHours-Morning-WebAttacks.pcap_ISCX.csv 파일에 포함된 라벨 종류:\n",
            "['BENIGN' 'Web Attack � Brute Force' 'Web Attack � XSS'\n",
            " 'Web Attack � Sql Injection']\n",
            "\n",
            "/content/Thursday-WorkingHours-Afternoon-Infilteration.pcap_ISCX.csv 파일에 포함된 라벨 종류:\n",
            "['BENIGN' 'Infiltration']\n",
            "\n",
            "/content/Friday-WorkingHours-Morning.pcap_ISCX.csv 파일에 포함된 라벨 종류:\n",
            "['BENIGN' 'Bot']\n",
            "\n",
            "/content/Friday-WorkingHours-Afternoon-DDos.pcap_ISCX.csv 파일에 포함된 라벨 종류:\n",
            "['BENIGN' 'DDoS']\n",
            "\n",
            "/content/Friday-WorkingHours-Afternoon-PortScan.pcap_ISCX.csv 파일에 포함된 라벨 종류:\n",
            "['BENIGN' 'PortScan']\n"
          ]
        }
      ]
    },
    {
      "cell_type": "code",
      "source": [
        "# ==========================\n",
        "# 3. 데이터 전처리\n",
        "# ==========================\n",
        "\n",
        "from collections import defaultdict\n",
        "from sklearn.preprocessing import LabelEncoder, StandardScaler\n",
        "import numpy as np\n",
        "\n",
        "# ==========================\n",
        "# 추가 - 라벨 통합 전 원본 복사\n",
        "# ==========================\n",
        "full_data_label_copy = full_data['Label'].copy()\n",
        "\n",
        "# ==========================\n",
        "# 기존 코드 (절대 수정 안 함)\n",
        "# ==========================\n",
        "# 불필요한 컬럼 제거\n",
        "drop_columns = ['Flow ID', 'Source IP', 'Source Port', 'Destination IP', 'Destination Port', 'Timestamp']\n",
        "full_data = full_data.drop(columns=[col for col in drop_columns if col in full_data.columns], errors='ignore')\n",
        "\n",
        "# 결측치 제거\n",
        "full_data = full_data.replace([np.inf, -np.inf], np.nan)\n",
        "full_data = full_data.dropna()\n",
        "\n",
        "# Label 통합\n",
        "def map_label(label):\n",
        "    label = str(label)\n",
        "    if 'Web Attack' in label:\n",
        "        return 'Web Attack'\n",
        "    elif 'DoS' in label:\n",
        "        return 'DoS'\n",
        "    elif 'Heartbleed' in label:\n",
        "        return 'Heartbleed'\n",
        "    elif 'Bot' in label:\n",
        "        return 'Botnet'\n",
        "    elif 'DDoS' in label:\n",
        "        return 'DDoS'\n",
        "    elif 'Patator' in label:\n",
        "        return 'Patator'\n",
        "    elif 'PortScan' in label:\n",
        "        return 'PortScan'\n",
        "    elif 'Infiltration' in label:\n",
        "        return 'Infiltration'\n",
        "    elif label == 'BENIGN':\n",
        "        return 'Normal'\n",
        "    else:\n",
        "        return 'Other'\n",
        "\n",
        "full_data['Label'] = full_data['Label'].apply(map_label)\n",
        "\n",
        "# Label 인코딩\n",
        "labelencoder = LabelEncoder()\n",
        "full_data['Label'] = labelencoder.fit_transform(full_data['Label'])\n",
        "\n",
        "# 피처와 라벨 분리\n",
        "X = full_data.drop('Label', axis=1)\n",
        "y = full_data['Label']\n",
        "\n",
        "# 표준화\n",
        "scaler = StandardScaler()\n",
        "X_scaled = scaler.fit_transform(X)\n",
        "\n",
        "print(\"[3단계 완료] 전처리 완료\")\n",
        "print(\"특성 수:\", X_scaled.shape[1])\n",
        "\n"
      ],
      "metadata": {
        "colab": {
          "base_uri": "https://localhost:8080/"
        },
        "id": "1bebAHGjneu6",
        "outputId": "628a24f3-a1fc-4482-c61d-01ce9915d9b3"
      },
      "execution_count": null,
      "outputs": [
        {
          "output_type": "stream",
          "name": "stdout",
          "text": [
            "[3단계 완료] 전처리 완료\n",
            "특성 수: 77\n"
          ]
        }
      ]
    },
    {
      "cell_type": "code",
      "source": [
        "# ==========================\n",
        "# 4. SMOTE로 클래스 불균형 처리\n",
        "# ==========================\n",
        "X_resampled, y_resampled = SMOTE(random_state=42).fit_resample(X_scaled, y)\n",
        "X_resampled = np.array(X_resampled)\n",
        "y_resampled = np.array(y_resampled)\n",
        "\n",
        "print(\"[4단계 완료] SMOTE 완료\")\n",
        "print(\"SMOTE 이후 데이터 shape:\", X_resampled.shape)\n"
      ],
      "metadata": {
        "colab": {
          "base_uri": "https://localhost:8080/"
        },
        "id": "ybyu58GPng2G",
        "outputId": "06f4a4cb-d0db-43e2-f590-e0bbf5da30dc"
      },
      "execution_count": null,
      "outputs": [
        {
          "output_type": "stream",
          "name": "stdout",
          "text": [
            "[4단계 완료] SMOTE 완료\n",
            "SMOTE 이후 데이터 shape: (13934712, 77)\n"
          ]
        }
      ]
    },
    {
      "cell_type": "code",
      "source": [
        "\n",
        "# ==========================\n",
        "# 추가 - 라벨 확인용 출력\n",
        "# ==========================\n",
        "class_to_labels = defaultdict(set)\n",
        "\n",
        "def map_label_check(label):\n",
        "    label = str(label)\n",
        "    if 'Web Attack' in label:\n",
        "        class_to_labels['Web Attack'].add(label)\n",
        "    elif 'DoS' in label:\n",
        "        class_to_labels['DoS'].add(label)\n",
        "    elif 'Heartbleed' in label:\n",
        "        class_to_labels['Heartbleed'].add(label)\n",
        "    elif 'Bot' in label:\n",
        "        class_to_labels['Botnet'].add(label)\n",
        "    elif 'DDoS' in label:\n",
        "        class_to_labels['DDoS'].add(label)\n",
        "    elif 'Patator' in label:\n",
        "        class_to_labels['Patator'].add(label)\n",
        "    elif 'Infiltration' in label:\n",
        "        class_to_labels['Infiltration'].add(label)\n",
        "    elif 'PortScan' in label:\n",
        "        class_to_labels['PortScan'].add(label)\n",
        "    elif label == 'BENIGN':\n",
        "        class_to_labels['Normal'].add(label)\n",
        "    else:\n",
        "        class_to_labels['Other'].add(label)\n",
        "\n",
        "# 복사한 원본 라벨 기준으로 확인\n",
        "full_data_label_copy.apply(map_label_check)\n",
        "\n",
        "print(\"\\n=== 클래스별 원래 라벨 모음 ===\")\n",
        "for cls, labels in class_to_labels.items():\n",
        "    print(f\"클래스: {cls}\")\n",
        "    for l in sorted(labels):\n",
        "        print(f\"  - {l}\")"
      ],
      "metadata": {
        "colab": {
          "base_uri": "https://localhost:8080/"
        },
        "id": "l83JiHPBFTVO",
        "outputId": "95b6131e-22d0-4ac5-a4e6-bc1e69100e79"
      },
      "execution_count": null,
      "outputs": [
        {
          "output_type": "stream",
          "name": "stdout",
          "text": [
            "\n",
            "=== 클래스별 원래 라벨 모음 ===\n",
            "클래스: Normal\n",
            "  - BENIGN\n",
            "클래스: Patator\n",
            "  - FTP-Patator\n",
            "  - SSH-Patator\n",
            "클래스: DoS\n",
            "  - DDoS\n",
            "  - DoS GoldenEye\n",
            "  - DoS Hulk\n",
            "  - DoS Slowhttptest\n",
            "  - DoS slowloris\n",
            "클래스: Heartbleed\n",
            "  - Heartbleed\n",
            "클래스: Web Attack\n",
            "  - Web Attack � Brute Force\n",
            "  - Web Attack � Sql Injection\n",
            "  - Web Attack � XSS\n",
            "클래스: Infiltration\n",
            "  - Infiltration\n",
            "클래스: Botnet\n",
            "  - Bot\n",
            "클래스: PortScan\n",
            "  - PortScan\n"
          ]
        }
      ]
    },
    {
      "cell_type": "code",
      "source": [
        "# ==========================\n",
        "# 5. 클래스별 균형 샘플링 (300개씩)\n",
        "# ==========================\n",
        "sampled_X = []\n",
        "sampled_y = []\n",
        "\n",
        "labels = np.unique(y_resampled)\n",
        "\n",
        "for label in labels:\n",
        "    indices = np.where(y_resampled == label)[0]\n",
        "    if len(indices) >= 10000:\n",
        "        selected = np.random.choice(indices, 10000, replace=False)\n",
        "    else:\n",
        "        selected = np.random.choice(indices, len(indices), replace=False)\n",
        "    sampled_X.append(X_resampled[selected])\n",
        "    sampled_y.append(y_resampled[selected])\n",
        "\n",
        "X_sampled = np.vstack(sampled_X)\n",
        "y_sampled = np.hstack(sampled_y)\n",
        "\n",
        "print(\"샘플링 후 데이터 shape:\", X_sampled.shape)\n",
        "print(\"클래스별 데이터 개수:\", np.bincount(y_sampled))\n",
        "\n"
      ],
      "metadata": {
        "colab": {
          "base_uri": "https://localhost:8080/"
        },
        "id": "5jq4pUg0EeCD",
        "outputId": "6ca064d7-950a-4f1c-f3af-ba99047ac5c7"
      },
      "execution_count": null,
      "outputs": [
        {
          "output_type": "stream",
          "name": "stdout",
          "text": [
            "샘플링 후 데이터 shape: (80000, 77)\n",
            "클래스별 데이터 개수: [10000 10000 10000 10000 10000 10000 10000 10000]\n"
          ]
        }
      ]
    },
    {
      "cell_type": "code",
      "source": [
        "# ==========================\n",
        "# 6. 학습/테스트 데이터 분리\n",
        "# ==========================\n",
        "X_train, X_test, y_train, y_test = train_test_split(\n",
        "    X_sampled, y_sampled, test_size=0.2, random_state=42, stratify=y_sampled\n",
        ")\n",
        "\n",
        "print(\"[6단계 완료] 학습/테스트 분리 완료\")\n",
        "print(\"Train 데이터:\", X_train.shape)\n",
        "print(\"Test 데이터:\", X_test.shape)\n"
      ],
      "metadata": {
        "colab": {
          "base_uri": "https://localhost:8080/"
        },
        "id": "0wtpsEIGuN7J",
        "outputId": "ec235a8c-d306-4b13-8b01-c0b14f86fd34"
      },
      "execution_count": null,
      "outputs": [
        {
          "output_type": "stream",
          "name": "stdout",
          "text": [
            "[6단계 완료] 학습/테스트 분리 완료\n",
            "Train 데이터: (64000, 77)\n",
            "Test 데이터: (16000, 77)\n"
          ]
        }
      ]
    },
    {
      "cell_type": "code",
      "source": [
        "\n",
        "# ==========================\n",
        "# 7. CNN + Transformer 모델 구축\n",
        "# ==========================\n",
        "X_train_reshaped = np.expand_dims(X_train, axis=2)\n",
        "X_test_reshaped = np.expand_dims(X_test, axis=2)\n",
        "\n",
        "input_shape = (X_train.shape[1], 1)\n",
        "num_classes = len(np.unique(y_train))\n",
        "\n",
        "inputs = layers.Input(shape=input_shape)\n",
        "x = layers.Conv1D(64, 3, activation='relu', padding='same')(inputs)\n",
        "x = layers.Conv1D(64, 3, activation='relu', padding='same')(x)\n",
        "\n",
        "attention_output = layers.MultiHeadAttention(num_heads=4, key_dim=64)(x, x)\n",
        "attention_output = layers.Add()([x, attention_output])\n",
        "attention_output = layers.LayerNormalization()(attention_output)\n",
        "\n",
        "ffn_output = layers.Dense(128, activation='relu')(attention_output)\n",
        "ffn_output = layers.Dense(64, activation='relu')(ffn_output)\n",
        "ffn_output = layers.Add()([attention_output, ffn_output])\n",
        "ffn_output = layers.LayerNormalization()(ffn_output)\n",
        "\n",
        "x = layers.GlobalAveragePooling1D()(ffn_output)\n",
        "x = layers.Dense(128, activation='relu')(x)\n",
        "x = layers.Dropout(0.3)(x)\n",
        "x = layers.Dense(64, activation='relu')(x)\n",
        "x = layers.Dropout(0.3)(x)\n",
        "outputs = layers.Dense(num_classes, activation='softmax')(x)\n",
        "\n",
        "model = models.Model(inputs=inputs, outputs=outputs)\n",
        "\n",
        "model.compile(optimizer='adam',\n",
        "              loss='sparse_categorical_crossentropy',\n",
        "              metrics=['accuracy'])\n",
        "\n",
        "model.summary()\n",
        "print(\"[7단계 완료] 모델 구축 완료\")"
      ],
      "metadata": {
        "colab": {
          "base_uri": "https://localhost:8080/",
          "height": 764
        },
        "id": "9B_eJCI6nm1R",
        "outputId": "f186e812-89f9-40af-a790-52e49b6cee86"
      },
      "execution_count": null,
      "outputs": [
        {
          "output_type": "display_data",
          "data": {
            "text/plain": [
              "\u001b[1mModel: \"functional_1\"\u001b[0m\n"
            ],
            "text/html": [
              "<pre style=\"white-space:pre;overflow-x:auto;line-height:normal;font-family:Menlo,'DejaVu Sans Mono',consolas,'Courier New',monospace\"><span style=\"font-weight: bold\">Model: \"functional_1\"</span>\n",
              "</pre>\n"
            ]
          },
          "metadata": {}
        },
        {
          "output_type": "display_data",
          "data": {
            "text/plain": [
              "┏━━━━━━━━━━━━━━━━━━━━━┳━━━━━━━━━━━━━━━━━━━┳━━━━━━━━━━━━┳━━━━━━━━━━━━━━━━━━━┓\n",
              "┃\u001b[1m \u001b[0m\u001b[1mLayer (type)       \u001b[0m\u001b[1m \u001b[0m┃\u001b[1m \u001b[0m\u001b[1mOutput Shape     \u001b[0m\u001b[1m \u001b[0m┃\u001b[1m \u001b[0m\u001b[1m   Param #\u001b[0m\u001b[1m \u001b[0m┃\u001b[1m \u001b[0m\u001b[1mConnected to     \u001b[0m\u001b[1m \u001b[0m┃\n",
              "┡━━━━━━━━━━━━━━━━━━━━━╇━━━━━━━━━━━━━━━━━━━╇━━━━━━━━━━━━╇━━━━━━━━━━━━━━━━━━━┩\n",
              "│ input_layer_1       │ (\u001b[38;5;45mNone\u001b[0m, \u001b[38;5;34m77\u001b[0m, \u001b[38;5;34m1\u001b[0m)     │          \u001b[38;5;34m0\u001b[0m │ -                 │\n",
              "│ (\u001b[38;5;33mInputLayer\u001b[0m)        │                   │            │                   │\n",
              "├─────────────────────┼───────────────────┼────────────┼───────────────────┤\n",
              "│ conv1d_2 (\u001b[38;5;33mConv1D\u001b[0m)   │ (\u001b[38;5;45mNone\u001b[0m, \u001b[38;5;34m77\u001b[0m, \u001b[38;5;34m64\u001b[0m)    │        \u001b[38;5;34m256\u001b[0m │ input_layer_1[\u001b[38;5;34m0\u001b[0m]… │\n",
              "├─────────────────────┼───────────────────┼────────────┼───────────────────┤\n",
              "│ conv1d_3 (\u001b[38;5;33mConv1D\u001b[0m)   │ (\u001b[38;5;45mNone\u001b[0m, \u001b[38;5;34m77\u001b[0m, \u001b[38;5;34m64\u001b[0m)    │     \u001b[38;5;34m12,352\u001b[0m │ conv1d_2[\u001b[38;5;34m0\u001b[0m][\u001b[38;5;34m0\u001b[0m]    │\n",
              "├─────────────────────┼───────────────────┼────────────┼───────────────────┤\n",
              "│ multi_head_attenti… │ (\u001b[38;5;45mNone\u001b[0m, \u001b[38;5;34m77\u001b[0m, \u001b[38;5;34m64\u001b[0m)    │     \u001b[38;5;34m66,368\u001b[0m │ conv1d_3[\u001b[38;5;34m0\u001b[0m][\u001b[38;5;34m0\u001b[0m],   │\n",
              "│ (\u001b[38;5;33mMultiHeadAttentio…\u001b[0m │                   │            │ conv1d_3[\u001b[38;5;34m0\u001b[0m][\u001b[38;5;34m0\u001b[0m]    │\n",
              "├─────────────────────┼───────────────────┼────────────┼───────────────────┤\n",
              "│ add_2 (\u001b[38;5;33mAdd\u001b[0m)         │ (\u001b[38;5;45mNone\u001b[0m, \u001b[38;5;34m77\u001b[0m, \u001b[38;5;34m64\u001b[0m)    │          \u001b[38;5;34m0\u001b[0m │ conv1d_3[\u001b[38;5;34m0\u001b[0m][\u001b[38;5;34m0\u001b[0m],   │\n",
              "│                     │                   │            │ multi_head_atten… │\n",
              "├─────────────────────┼───────────────────┼────────────┼───────────────────┤\n",
              "│ layer_normalizatio… │ (\u001b[38;5;45mNone\u001b[0m, \u001b[38;5;34m77\u001b[0m, \u001b[38;5;34m64\u001b[0m)    │        \u001b[38;5;34m128\u001b[0m │ add_2[\u001b[38;5;34m0\u001b[0m][\u001b[38;5;34m0\u001b[0m]       │\n",
              "│ (\u001b[38;5;33mLayerNormalizatio…\u001b[0m │                   │            │                   │\n",
              "├─────────────────────┼───────────────────┼────────────┼───────────────────┤\n",
              "│ dense_5 (\u001b[38;5;33mDense\u001b[0m)     │ (\u001b[38;5;45mNone\u001b[0m, \u001b[38;5;34m77\u001b[0m, \u001b[38;5;34m128\u001b[0m)   │      \u001b[38;5;34m8,320\u001b[0m │ layer_normalizat… │\n",
              "├─────────────────────┼───────────────────┼────────────┼───────────────────┤\n",
              "│ dense_6 (\u001b[38;5;33mDense\u001b[0m)     │ (\u001b[38;5;45mNone\u001b[0m, \u001b[38;5;34m77\u001b[0m, \u001b[38;5;34m64\u001b[0m)    │      \u001b[38;5;34m8,256\u001b[0m │ dense_5[\u001b[38;5;34m0\u001b[0m][\u001b[38;5;34m0\u001b[0m]     │\n",
              "├─────────────────────┼───────────────────┼────────────┼───────────────────┤\n",
              "│ add_3 (\u001b[38;5;33mAdd\u001b[0m)         │ (\u001b[38;5;45mNone\u001b[0m, \u001b[38;5;34m77\u001b[0m, \u001b[38;5;34m64\u001b[0m)    │          \u001b[38;5;34m0\u001b[0m │ layer_normalizat… │\n",
              "│                     │                   │            │ dense_6[\u001b[38;5;34m0\u001b[0m][\u001b[38;5;34m0\u001b[0m]     │\n",
              "├─────────────────────┼───────────────────┼────────────┼───────────────────┤\n",
              "│ layer_normalizatio… │ (\u001b[38;5;45mNone\u001b[0m, \u001b[38;5;34m77\u001b[0m, \u001b[38;5;34m64\u001b[0m)    │        \u001b[38;5;34m128\u001b[0m │ add_3[\u001b[38;5;34m0\u001b[0m][\u001b[38;5;34m0\u001b[0m]       │\n",
              "│ (\u001b[38;5;33mLayerNormalizatio…\u001b[0m │                   │            │                   │\n",
              "├─────────────────────┼───────────────────┼────────────┼───────────────────┤\n",
              "│ global_average_poo… │ (\u001b[38;5;45mNone\u001b[0m, \u001b[38;5;34m64\u001b[0m)        │          \u001b[38;5;34m0\u001b[0m │ layer_normalizat… │\n",
              "│ (\u001b[38;5;33mGlobalAveragePool…\u001b[0m │                   │            │                   │\n",
              "├─────────────────────┼───────────────────┼────────────┼───────────────────┤\n",
              "│ dense_7 (\u001b[38;5;33mDense\u001b[0m)     │ (\u001b[38;5;45mNone\u001b[0m, \u001b[38;5;34m128\u001b[0m)       │      \u001b[38;5;34m8,320\u001b[0m │ global_average_p… │\n",
              "├─────────────────────┼───────────────────┼────────────┼───────────────────┤\n",
              "│ dropout_4 (\u001b[38;5;33mDropout\u001b[0m) │ (\u001b[38;5;45mNone\u001b[0m, \u001b[38;5;34m128\u001b[0m)       │          \u001b[38;5;34m0\u001b[0m │ dense_7[\u001b[38;5;34m0\u001b[0m][\u001b[38;5;34m0\u001b[0m]     │\n",
              "├─────────────────────┼───────────────────┼────────────┼───────────────────┤\n",
              "│ dense_8 (\u001b[38;5;33mDense\u001b[0m)     │ (\u001b[38;5;45mNone\u001b[0m, \u001b[38;5;34m64\u001b[0m)        │      \u001b[38;5;34m8,256\u001b[0m │ dropout_4[\u001b[38;5;34m0\u001b[0m][\u001b[38;5;34m0\u001b[0m]   │\n",
              "├─────────────────────┼───────────────────┼────────────┼───────────────────┤\n",
              "│ dropout_5 (\u001b[38;5;33mDropout\u001b[0m) │ (\u001b[38;5;45mNone\u001b[0m, \u001b[38;5;34m64\u001b[0m)        │          \u001b[38;5;34m0\u001b[0m │ dense_8[\u001b[38;5;34m0\u001b[0m][\u001b[38;5;34m0\u001b[0m]     │\n",
              "├─────────────────────┼───────────────────┼────────────┼───────────────────┤\n",
              "│ dense_9 (\u001b[38;5;33mDense\u001b[0m)     │ (\u001b[38;5;45mNone\u001b[0m, \u001b[38;5;34m8\u001b[0m)         │        \u001b[38;5;34m520\u001b[0m │ dropout_5[\u001b[38;5;34m0\u001b[0m][\u001b[38;5;34m0\u001b[0m]   │\n",
              "└─────────────────────┴───────────────────┴────────────┴───────────────────┘\n"
            ],
            "text/html": [
              "<pre style=\"white-space:pre;overflow-x:auto;line-height:normal;font-family:Menlo,'DejaVu Sans Mono',consolas,'Courier New',monospace\">┏━━━━━━━━━━━━━━━━━━━━━┳━━━━━━━━━━━━━━━━━━━┳━━━━━━━━━━━━┳━━━━━━━━━━━━━━━━━━━┓\n",
              "┃<span style=\"font-weight: bold\"> Layer (type)        </span>┃<span style=\"font-weight: bold\"> Output Shape      </span>┃<span style=\"font-weight: bold\">    Param # </span>┃<span style=\"font-weight: bold\"> Connected to      </span>┃\n",
              "┡━━━━━━━━━━━━━━━━━━━━━╇━━━━━━━━━━━━━━━━━━━╇━━━━━━━━━━━━╇━━━━━━━━━━━━━━━━━━━┩\n",
              "│ input_layer_1       │ (<span style=\"color: #00d7ff; text-decoration-color: #00d7ff\">None</span>, <span style=\"color: #00af00; text-decoration-color: #00af00\">77</span>, <span style=\"color: #00af00; text-decoration-color: #00af00\">1</span>)     │          <span style=\"color: #00af00; text-decoration-color: #00af00\">0</span> │ -                 │\n",
              "│ (<span style=\"color: #0087ff; text-decoration-color: #0087ff\">InputLayer</span>)        │                   │            │                   │\n",
              "├─────────────────────┼───────────────────┼────────────┼───────────────────┤\n",
              "│ conv1d_2 (<span style=\"color: #0087ff; text-decoration-color: #0087ff\">Conv1D</span>)   │ (<span style=\"color: #00d7ff; text-decoration-color: #00d7ff\">None</span>, <span style=\"color: #00af00; text-decoration-color: #00af00\">77</span>, <span style=\"color: #00af00; text-decoration-color: #00af00\">64</span>)    │        <span style=\"color: #00af00; text-decoration-color: #00af00\">256</span> │ input_layer_1[<span style=\"color: #00af00; text-decoration-color: #00af00\">0</span>]… │\n",
              "├─────────────────────┼───────────────────┼────────────┼───────────────────┤\n",
              "│ conv1d_3 (<span style=\"color: #0087ff; text-decoration-color: #0087ff\">Conv1D</span>)   │ (<span style=\"color: #00d7ff; text-decoration-color: #00d7ff\">None</span>, <span style=\"color: #00af00; text-decoration-color: #00af00\">77</span>, <span style=\"color: #00af00; text-decoration-color: #00af00\">64</span>)    │     <span style=\"color: #00af00; text-decoration-color: #00af00\">12,352</span> │ conv1d_2[<span style=\"color: #00af00; text-decoration-color: #00af00\">0</span>][<span style=\"color: #00af00; text-decoration-color: #00af00\">0</span>]    │\n",
              "├─────────────────────┼───────────────────┼────────────┼───────────────────┤\n",
              "│ multi_head_attenti… │ (<span style=\"color: #00d7ff; text-decoration-color: #00d7ff\">None</span>, <span style=\"color: #00af00; text-decoration-color: #00af00\">77</span>, <span style=\"color: #00af00; text-decoration-color: #00af00\">64</span>)    │     <span style=\"color: #00af00; text-decoration-color: #00af00\">66,368</span> │ conv1d_3[<span style=\"color: #00af00; text-decoration-color: #00af00\">0</span>][<span style=\"color: #00af00; text-decoration-color: #00af00\">0</span>],   │\n",
              "│ (<span style=\"color: #0087ff; text-decoration-color: #0087ff\">MultiHeadAttentio…</span> │                   │            │ conv1d_3[<span style=\"color: #00af00; text-decoration-color: #00af00\">0</span>][<span style=\"color: #00af00; text-decoration-color: #00af00\">0</span>]    │\n",
              "├─────────────────────┼───────────────────┼────────────┼───────────────────┤\n",
              "│ add_2 (<span style=\"color: #0087ff; text-decoration-color: #0087ff\">Add</span>)         │ (<span style=\"color: #00d7ff; text-decoration-color: #00d7ff\">None</span>, <span style=\"color: #00af00; text-decoration-color: #00af00\">77</span>, <span style=\"color: #00af00; text-decoration-color: #00af00\">64</span>)    │          <span style=\"color: #00af00; text-decoration-color: #00af00\">0</span> │ conv1d_3[<span style=\"color: #00af00; text-decoration-color: #00af00\">0</span>][<span style=\"color: #00af00; text-decoration-color: #00af00\">0</span>],   │\n",
              "│                     │                   │            │ multi_head_atten… │\n",
              "├─────────────────────┼───────────────────┼────────────┼───────────────────┤\n",
              "│ layer_normalizatio… │ (<span style=\"color: #00d7ff; text-decoration-color: #00d7ff\">None</span>, <span style=\"color: #00af00; text-decoration-color: #00af00\">77</span>, <span style=\"color: #00af00; text-decoration-color: #00af00\">64</span>)    │        <span style=\"color: #00af00; text-decoration-color: #00af00\">128</span> │ add_2[<span style=\"color: #00af00; text-decoration-color: #00af00\">0</span>][<span style=\"color: #00af00; text-decoration-color: #00af00\">0</span>]       │\n",
              "│ (<span style=\"color: #0087ff; text-decoration-color: #0087ff\">LayerNormalizatio…</span> │                   │            │                   │\n",
              "├─────────────────────┼───────────────────┼────────────┼───────────────────┤\n",
              "│ dense_5 (<span style=\"color: #0087ff; text-decoration-color: #0087ff\">Dense</span>)     │ (<span style=\"color: #00d7ff; text-decoration-color: #00d7ff\">None</span>, <span style=\"color: #00af00; text-decoration-color: #00af00\">77</span>, <span style=\"color: #00af00; text-decoration-color: #00af00\">128</span>)   │      <span style=\"color: #00af00; text-decoration-color: #00af00\">8,320</span> │ layer_normalizat… │\n",
              "├─────────────────────┼───────────────────┼────────────┼───────────────────┤\n",
              "│ dense_6 (<span style=\"color: #0087ff; text-decoration-color: #0087ff\">Dense</span>)     │ (<span style=\"color: #00d7ff; text-decoration-color: #00d7ff\">None</span>, <span style=\"color: #00af00; text-decoration-color: #00af00\">77</span>, <span style=\"color: #00af00; text-decoration-color: #00af00\">64</span>)    │      <span style=\"color: #00af00; text-decoration-color: #00af00\">8,256</span> │ dense_5[<span style=\"color: #00af00; text-decoration-color: #00af00\">0</span>][<span style=\"color: #00af00; text-decoration-color: #00af00\">0</span>]     │\n",
              "├─────────────────────┼───────────────────┼────────────┼───────────────────┤\n",
              "│ add_3 (<span style=\"color: #0087ff; text-decoration-color: #0087ff\">Add</span>)         │ (<span style=\"color: #00d7ff; text-decoration-color: #00d7ff\">None</span>, <span style=\"color: #00af00; text-decoration-color: #00af00\">77</span>, <span style=\"color: #00af00; text-decoration-color: #00af00\">64</span>)    │          <span style=\"color: #00af00; text-decoration-color: #00af00\">0</span> │ layer_normalizat… │\n",
              "│                     │                   │            │ dense_6[<span style=\"color: #00af00; text-decoration-color: #00af00\">0</span>][<span style=\"color: #00af00; text-decoration-color: #00af00\">0</span>]     │\n",
              "├─────────────────────┼───────────────────┼────────────┼───────────────────┤\n",
              "│ layer_normalizatio… │ (<span style=\"color: #00d7ff; text-decoration-color: #00d7ff\">None</span>, <span style=\"color: #00af00; text-decoration-color: #00af00\">77</span>, <span style=\"color: #00af00; text-decoration-color: #00af00\">64</span>)    │        <span style=\"color: #00af00; text-decoration-color: #00af00\">128</span> │ add_3[<span style=\"color: #00af00; text-decoration-color: #00af00\">0</span>][<span style=\"color: #00af00; text-decoration-color: #00af00\">0</span>]       │\n",
              "│ (<span style=\"color: #0087ff; text-decoration-color: #0087ff\">LayerNormalizatio…</span> │                   │            │                   │\n",
              "├─────────────────────┼───────────────────┼────────────┼───────────────────┤\n",
              "│ global_average_poo… │ (<span style=\"color: #00d7ff; text-decoration-color: #00d7ff\">None</span>, <span style=\"color: #00af00; text-decoration-color: #00af00\">64</span>)        │          <span style=\"color: #00af00; text-decoration-color: #00af00\">0</span> │ layer_normalizat… │\n",
              "│ (<span style=\"color: #0087ff; text-decoration-color: #0087ff\">GlobalAveragePool…</span> │                   │            │                   │\n",
              "├─────────────────────┼───────────────────┼────────────┼───────────────────┤\n",
              "│ dense_7 (<span style=\"color: #0087ff; text-decoration-color: #0087ff\">Dense</span>)     │ (<span style=\"color: #00d7ff; text-decoration-color: #00d7ff\">None</span>, <span style=\"color: #00af00; text-decoration-color: #00af00\">128</span>)       │      <span style=\"color: #00af00; text-decoration-color: #00af00\">8,320</span> │ global_average_p… │\n",
              "├─────────────────────┼───────────────────┼────────────┼───────────────────┤\n",
              "│ dropout_4 (<span style=\"color: #0087ff; text-decoration-color: #0087ff\">Dropout</span>) │ (<span style=\"color: #00d7ff; text-decoration-color: #00d7ff\">None</span>, <span style=\"color: #00af00; text-decoration-color: #00af00\">128</span>)       │          <span style=\"color: #00af00; text-decoration-color: #00af00\">0</span> │ dense_7[<span style=\"color: #00af00; text-decoration-color: #00af00\">0</span>][<span style=\"color: #00af00; text-decoration-color: #00af00\">0</span>]     │\n",
              "├─────────────────────┼───────────────────┼────────────┼───────────────────┤\n",
              "│ dense_8 (<span style=\"color: #0087ff; text-decoration-color: #0087ff\">Dense</span>)     │ (<span style=\"color: #00d7ff; text-decoration-color: #00d7ff\">None</span>, <span style=\"color: #00af00; text-decoration-color: #00af00\">64</span>)        │      <span style=\"color: #00af00; text-decoration-color: #00af00\">8,256</span> │ dropout_4[<span style=\"color: #00af00; text-decoration-color: #00af00\">0</span>][<span style=\"color: #00af00; text-decoration-color: #00af00\">0</span>]   │\n",
              "├─────────────────────┼───────────────────┼────────────┼───────────────────┤\n",
              "│ dropout_5 (<span style=\"color: #0087ff; text-decoration-color: #0087ff\">Dropout</span>) │ (<span style=\"color: #00d7ff; text-decoration-color: #00d7ff\">None</span>, <span style=\"color: #00af00; text-decoration-color: #00af00\">64</span>)        │          <span style=\"color: #00af00; text-decoration-color: #00af00\">0</span> │ dense_8[<span style=\"color: #00af00; text-decoration-color: #00af00\">0</span>][<span style=\"color: #00af00; text-decoration-color: #00af00\">0</span>]     │\n",
              "├─────────────────────┼───────────────────┼────────────┼───────────────────┤\n",
              "│ dense_9 (<span style=\"color: #0087ff; text-decoration-color: #0087ff\">Dense</span>)     │ (<span style=\"color: #00d7ff; text-decoration-color: #00d7ff\">None</span>, <span style=\"color: #00af00; text-decoration-color: #00af00\">8</span>)         │        <span style=\"color: #00af00; text-decoration-color: #00af00\">520</span> │ dropout_5[<span style=\"color: #00af00; text-decoration-color: #00af00\">0</span>][<span style=\"color: #00af00; text-decoration-color: #00af00\">0</span>]   │\n",
              "└─────────────────────┴───────────────────┴────────────┴───────────────────┘\n",
              "</pre>\n"
            ]
          },
          "metadata": {}
        },
        {
          "output_type": "display_data",
          "data": {
            "text/plain": [
              "\u001b[1m Total params: \u001b[0m\u001b[38;5;34m112,904\u001b[0m (441.03 KB)\n"
            ],
            "text/html": [
              "<pre style=\"white-space:pre;overflow-x:auto;line-height:normal;font-family:Menlo,'DejaVu Sans Mono',consolas,'Courier New',monospace\"><span style=\"font-weight: bold\"> Total params: </span><span style=\"color: #00af00; text-decoration-color: #00af00\">112,904</span> (441.03 KB)\n",
              "</pre>\n"
            ]
          },
          "metadata": {}
        },
        {
          "output_type": "display_data",
          "data": {
            "text/plain": [
              "\u001b[1m Trainable params: \u001b[0m\u001b[38;5;34m112,904\u001b[0m (441.03 KB)\n"
            ],
            "text/html": [
              "<pre style=\"white-space:pre;overflow-x:auto;line-height:normal;font-family:Menlo,'DejaVu Sans Mono',consolas,'Courier New',monospace\"><span style=\"font-weight: bold\"> Trainable params: </span><span style=\"color: #00af00; text-decoration-color: #00af00\">112,904</span> (441.03 KB)\n",
              "</pre>\n"
            ]
          },
          "metadata": {}
        },
        {
          "output_type": "display_data",
          "data": {
            "text/plain": [
              "\u001b[1m Non-trainable params: \u001b[0m\u001b[38;5;34m0\u001b[0m (0.00 B)\n"
            ],
            "text/html": [
              "<pre style=\"white-space:pre;overflow-x:auto;line-height:normal;font-family:Menlo,'DejaVu Sans Mono',consolas,'Courier New',monospace\"><span style=\"font-weight: bold\"> Non-trainable params: </span><span style=\"color: #00af00; text-decoration-color: #00af00\">0</span> (0.00 B)\n",
              "</pre>\n"
            ]
          },
          "metadata": {}
        },
        {
          "output_type": "stream",
          "name": "stdout",
          "text": [
            "[7단계 완료] 모델 구축 완료\n"
          ]
        }
      ]
    },
    {
      "cell_type": "code",
      "source": [
        "# ==========================\n",
        "# 8. 모델 학습\n",
        "# ==========================\n",
        "history = model.fit(\n",
        "    X_train_reshaped, y_train,\n",
        "    epochs=20, batch_size=64,\n",
        "    validation_split=0.2,\n",
        "    #callbacks=[tf.keras.callbacks.EarlyStopping(patience=3, restore_best_weights=True)]\n",
        ")\n",
        "\n",
        "print(\"[8단계 완료] 모델 학습 완료\")"
      ],
      "metadata": {
        "colab": {
          "base_uri": "https://localhost:8080/"
        },
        "id": "Oz2UBViCAF1q",
        "outputId": "f3768a03-2876-419e-c15c-d6b158d16d38"
      },
      "execution_count": null,
      "outputs": [
        {
          "output_type": "stream",
          "name": "stdout",
          "text": [
            "Epoch 1/20\n",
            "\u001b[1m800/800\u001b[0m \u001b[32m━━━━━━━━━━━━━━━━━━━━\u001b[0m\u001b[37m\u001b[0m \u001b[1m75s\u001b[0m 93ms/step - accuracy: 0.9470 - loss: 0.1631 - val_accuracy: 0.9525 - val_loss: 0.1431\n",
            "Epoch 2/20\n",
            "\u001b[1m800/800\u001b[0m \u001b[32m━━━━━━━━━━━━━━━━━━━━\u001b[0m\u001b[37m\u001b[0m \u001b[1m75s\u001b[0m 93ms/step - accuracy: 0.9487 - loss: 0.1582 - val_accuracy: 0.9592 - val_loss: 0.1309\n",
            "Epoch 3/20\n",
            "\u001b[1m800/800\u001b[0m \u001b[32m━━━━━━━━━━━━━━━━━━━━\u001b[0m\u001b[37m\u001b[0m \u001b[1m74s\u001b[0m 93ms/step - accuracy: 0.9532 - loss: 0.1460 - val_accuracy: 0.9568 - val_loss: 0.1328\n",
            "Epoch 4/20\n",
            "\u001b[1m800/800\u001b[0m \u001b[32m━━━━━━━━━━━━━━━━━━━━\u001b[0m\u001b[37m\u001b[0m \u001b[1m75s\u001b[0m 94ms/step - accuracy: 0.9532 - loss: 0.1477 - val_accuracy: 0.9599 - val_loss: 0.1149\n",
            "Epoch 5/20\n",
            "\u001b[1m800/800\u001b[0m \u001b[32m━━━━━━━━━━━━━━━━━━━━\u001b[0m\u001b[37m\u001b[0m \u001b[1m75s\u001b[0m 94ms/step - accuracy: 0.9514 - loss: 0.1500 - val_accuracy: 0.9611 - val_loss: 0.1163\n",
            "Epoch 6/20\n",
            "\u001b[1m800/800\u001b[0m \u001b[32m━━━━━━━━━━━━━━━━━━━━\u001b[0m\u001b[37m\u001b[0m \u001b[1m75s\u001b[0m 94ms/step - accuracy: 0.9581 - loss: 0.1340 - val_accuracy: 0.9591 - val_loss: 0.1309\n",
            "Epoch 7/20\n",
            "\u001b[1m800/800\u001b[0m \u001b[32m━━━━━━━━━━━━━━━━━━━━\u001b[0m\u001b[37m\u001b[0m \u001b[1m75s\u001b[0m 94ms/step - accuracy: 0.9585 - loss: 0.1270 - val_accuracy: 0.9627 - val_loss: 0.1140\n",
            "Epoch 8/20\n",
            "\u001b[1m800/800\u001b[0m \u001b[32m━━━━━━━━━━━━━━━━━━━━\u001b[0m\u001b[37m\u001b[0m \u001b[1m75s\u001b[0m 94ms/step - accuracy: 0.9586 - loss: 0.1259 - val_accuracy: 0.9614 - val_loss: 0.1123\n",
            "Epoch 9/20\n",
            "\u001b[1m800/800\u001b[0m \u001b[32m━━━━━━━━━━━━━━━━━━━━\u001b[0m\u001b[37m\u001b[0m \u001b[1m75s\u001b[0m 94ms/step - accuracy: 0.9631 - loss: 0.1156 - val_accuracy: 0.9624 - val_loss: 0.1162\n",
            "Epoch 10/20\n",
            "\u001b[1m800/800\u001b[0m \u001b[32m━━━━━━━━━━━━━━━━━━━━\u001b[0m\u001b[37m\u001b[0m \u001b[1m75s\u001b[0m 94ms/step - accuracy: 0.9595 - loss: 0.1256 - val_accuracy: 0.9593 - val_loss: 0.1198\n",
            "Epoch 11/20\n",
            "\u001b[1m800/800\u001b[0m \u001b[32m━━━━━━━━━━━━━━━━━━━━\u001b[0m\u001b[37m\u001b[0m \u001b[1m75s\u001b[0m 93ms/step - accuracy: 0.9599 - loss: 0.1190 - val_accuracy: 0.9661 - val_loss: 0.1072\n",
            "Epoch 12/20\n",
            "\u001b[1m800/800\u001b[0m \u001b[32m━━━━━━━━━━━━━━━━━━━━\u001b[0m\u001b[37m\u001b[0m \u001b[1m75s\u001b[0m 94ms/step - accuracy: 0.9621 - loss: 0.1185 - val_accuracy: 0.9655 - val_loss: 0.1000\n",
            "Epoch 13/20\n",
            "\u001b[1m800/800\u001b[0m \u001b[32m━━━━━━━━━━━━━━━━━━━━\u001b[0m\u001b[37m\u001b[0m \u001b[1m75s\u001b[0m 93ms/step - accuracy: 0.9621 - loss: 0.1186 - val_accuracy: 0.9648 - val_loss: 0.1065\n",
            "Epoch 14/20\n",
            "\u001b[1m800/800\u001b[0m \u001b[32m━━━━━━━━━━━━━━━━━━━━\u001b[0m\u001b[37m\u001b[0m \u001b[1m75s\u001b[0m 93ms/step - accuracy: 0.9645 - loss: 0.1097 - val_accuracy: 0.9609 - val_loss: 0.1190\n",
            "Epoch 15/20\n",
            "\u001b[1m800/800\u001b[0m \u001b[32m━━━━━━━━━━━━━━━━━━━━\u001b[0m\u001b[37m\u001b[0m \u001b[1m75s\u001b[0m 94ms/step - accuracy: 0.9647 - loss: 0.1082 - val_accuracy: 0.9620 - val_loss: 0.1182\n",
            "[8단계 완료] 모델 학습 완료\n"
          ]
        }
      ]
    },
    {
      "cell_type": "code",
      "source": [
        "from sklearn.metrics import classification_report, confusion_matrix\n",
        "import seaborn as sns\n",
        "import matplotlib.pyplot as plt\n",
        "import numpy as np\n",
        "\n",
        "# ==========================\n",
        "# 9. 성능 평가\n",
        "# ==========================\n",
        "\n",
        "# 예측 수행\n",
        "y_pred_probs = model.predict(X_test_reshaped)\n",
        "y_pred = np.argmax(y_pred_probs, axis=1)\n",
        "\n",
        "# 현재 테스트셋에 존재하는 클래스 인덱스를 기준으로 라벨 이름 재정렬\n",
        "label_indices = np.unique(y_test)\n",
        "label_names = labelencoder.inverse_transform(label_indices)\n",
        "\n",
        "# 1) Classification Report\n",
        "print(\"\\nClassification Report:\")\n",
        "print(classification_report(y_test, y_pred, target_names=label_names))\n",
        "\n",
        "# 2) Confusion Matrix\n",
        "cm = confusion_matrix(y_test, y_pred)\n",
        "plt.figure(figsize=(10, 8))\n",
        "sns.heatmap(cm, annot=True, fmt=\"d\", cmap=\"Blues\",\n",
        "            xticklabels=label_names, yticklabels=label_names)\n",
        "plt.title(\"Confusion Matrix\")\n",
        "plt.xlabel(\"Predicted\")\n",
        "plt.ylabel(\"True\")\n",
        "plt.show()\n"
      ],
      "metadata": {
        "colab": {
          "base_uri": "https://localhost:8080/",
          "height": 1000
        },
        "id": "IhA0-EhKnqOk",
        "outputId": "19da3d7f-fe29-4b43-adc2-02f64579dee7"
      },
      "execution_count": null,
      "outputs": [
        {
          "output_type": "stream",
          "name": "stdout",
          "text": [
            "\u001b[1m500/500\u001b[0m \u001b[32m━━━━━━━━━━━━━━━━━━━━\u001b[0m\u001b[37m\u001b[0m \u001b[1m11s\u001b[0m 21ms/step\n",
            "\n",
            "Classification Report:\n",
            "              precision    recall  f1-score   support\n",
            "\n",
            "      Botnet       0.98      1.00      0.99      2000\n",
            "         DoS       0.93      0.99      0.96      2000\n",
            "  Heartbleed       1.00      1.00      1.00      2000\n",
            "Infiltration       0.99      0.99      0.99      2000\n",
            "      Normal       0.97      0.85      0.90      2000\n",
            "     Patator       0.90      1.00      0.95      2000\n",
            "    PortScan       0.98      0.99      0.99      2000\n",
            "  Web Attack       0.99      0.91      0.94      2000\n",
            "\n",
            "    accuracy                           0.97     16000\n",
            "   macro avg       0.97      0.97      0.97     16000\n",
            "weighted avg       0.97      0.97      0.97     16000\n",
            "\n"
          ]
        },
        {
          "output_type": "display_data",
          "data": {
            "text/plain": [
              "<Figure size 1000x800 with 2 Axes>"
            ],
            "image/png": "[encoded data removed]"
          },
          "metadata": {}
        }
      ]
    },
    {
      "cell_type": "code",
      "source": [
        "# ==========================\n",
        "# 기존 모델 저장\n",
        "# ==========================\n",
        "\n",
        "# 학습 완료된 모델 저장\n",
        "model.save('model_baseline.keras')\n",
        "print(\"[기존 모델 저장 완료]: model_baseline(1).keras\")"
      ],
      "metadata": {
        "colab": {
          "base_uri": "https://localhost:8080/"
        },
        "id": "RdzL2ztjkv5H",
        "outputId": "e726f1c8-b755-4ce5-d686-3abbf7cee9b7"
      },
      "execution_count": null,
      "outputs": [
        {
          "output_type": "stream",
          "name": "stdout",
          "text": [
            "[기존 모델 저장 완료]: model_baseline(1).keras\n"
          ]
        }
      ]
    },
    {
      "cell_type": "markdown",
      "source": [
        "하드 학습"
      ],
      "metadata": {
        "id": "IAjkCKaGk-Rb"
      }
    },
    {
      "cell_type": "code",
      "source": [
        "from sklearn.utils import shuffle\n",
        "import tensorflow as tf\n",
        "from tensorflow import keras\n",
        "from tensorflow.keras import layers\n",
        "\n",
        "# ==========================\n",
        "# 1. 기존 모델 불러오기\n",
        "# ==========================\n",
        "from tensorflow.keras.models import load_model\n",
        "model = load_model('model_baseline.keras')  # 기존 모델 저장된 파일명\n",
        "\n",
        "print(\"[기존 모델 로드 완료]\")\n",
        "\n",
        "# ==========================\n",
        "# 2. 기존 모델로 학습 데이터 예측\n",
        "# ==========================\n",
        "y_pred_train = np.argmax(model.predict(X_train_reshaped), axis=1)\n",
        "\n",
        "# ==========================\n",
        "# 3. 오탐 데이터(Wrong Prediction) 추출\n",
        "# ==========================\n",
        "wrong_indices = np.where(y_pred_train != y_train)[0]\n",
        "easy_indices = np.where(y_pred_train == y_train)[0]\n",
        "\n",
        "print(f\"[오탐 데이터 개수]: {len(wrong_indices)}개\")\n",
        "print(f\"[정확히 예측한 데이터 개수]: {len(easy_indices)}개\")\n",
        "\n",
        "# ==========================\n",
        "# 4. 하드 데이터셋 구성\n",
        "# ==========================\n",
        "X_hard = X_train[wrong_indices]\n",
        "y_hard = y_train[wrong_indices]\n",
        "\n",
        "# 하드 데이터 2배 복제\n",
        "X_hard_augmented = np.concatenate([X_hard, X_hard])\n",
        "y_hard_augmented = np.concatenate([y_hard, y_hard])\n",
        "\n",
        "# Easy 데이터\n",
        "X_easy = X_train[easy_indices]\n",
        "y_easy = y_train[easy_indices]\n",
        "\n",
        "# 최종 학습 데이터\n",
        "X_train_final = np.concatenate([X_easy, X_hard_augmented])\n",
        "y_train_final = np.concatenate([y_easy, y_hard_augmented])\n",
        "\n",
        "# 셔플\n",
        "X_train_final, y_train_final = shuffle(X_train_final, y_train_final, random_state=42)\n",
        "\n",
        "print(\"[하드마이닝 완료]\")\n",
        "print(\"최종 학습 데이터 shape:\", X_train_final.shape)\n",
        "\n",
        "# 3D reshape\n",
        "X_train_final_reshaped = np.expand_dims(X_train_final, axis=2)\n",
        "\n",
        "# ==========================\n",
        "# 5. focal loss 정의\n",
        "# ==========================\n",
        "def focal_loss(gamma=2., alpha=0.25):\n",
        "    def focal_loss_fixed(y_true, y_pred):\n",
        "        y_true = tf.one_hot(tf.cast(y_true, tf.int32), depth=num_classes)\n",
        "        y_pred = tf.clip_by_value(y_pred, keras.backend.epsilon(), 1. - keras.backend.epsilon())\n",
        "        cross_entropy = -y_true * tf.math.log(y_pred)\n",
        "        weight = alpha * tf.math.pow(1 - y_pred, gamma)\n",
        "        loss = weight * cross_entropy\n",
        "        return tf.reduce_mean(tf.reduce_sum(loss, axis=1))\n",
        "    return focal_loss_fixed\n",
        "\n",
        "print(\"[Focal Loss 정의 완료]\")\n",
        "\n",
        "# ==========================\n",
        "# 6. 모델 복사\n",
        "# ==========================\n",
        "# 기존 모델 복사 (가중치는 초기화)\n",
        "input_shape = (X_train.shape[1], 1)\n",
        "\n",
        "inputs = layers.Input(shape=input_shape)\n",
        "x = layers.Conv1D(64, 3, activation='relu', padding='same')(inputs)\n",
        "x = layers.Conv1D(64, 3, activation='relu', padding='same')(x)\n",
        "\n",
        "attention_output = layers.MultiHeadAttention(num_heads=4, key_dim=64)(x, x)\n",
        "attention_output = layers.Add()([x, attention_output])\n",
        "attention_output = layers.LayerNormalization()(attention_output)\n",
        "\n",
        "ffn_output = layers.Dense(128, activation='relu')(attention_output)\n",
        "ffn_output = layers.Dense(64, activation='relu')(ffn_output)\n",
        "ffn_output = layers.Add()([attention_output, ffn_output])\n",
        "ffn_output = layers.LayerNormalization()(ffn_output)\n",
        "\n",
        "x = layers.GlobalAveragePooling1D()(ffn_output)\n",
        "x = layers.Dense(128, activation='relu')(x)\n",
        "x = layers.Dropout(0.3)(x)\n",
        "x = layers.Dense(64, activation='relu')(x)\n",
        "x = layers.Dropout(0.3)(x)\n",
        "outputs = layers.Dense(num_classes, activation='softmax')(x)\n",
        "\n",
        "new_model = keras.Model(inputs=inputs, outputs=outputs)\n",
        "\n",
        "new_model.compile(optimizer='adam', loss=focal_loss(), metrics=['accuracy'])\n",
        "print(\"[새로운 모델 컴파일 완료]\")\n",
        "\n",
        "# ==========================\n",
        "# 7. 모델 재학습\n",
        "# ==========================\n",
        "history = new_model.fit(\n",
        "    X_train_final_reshaped, y_train_final,\n",
        "    epochs=20,\n",
        "    batch_size=64,\n",
        "    validation_split=0.2,\n",
        "    callbacks=[tf.keras.callbacks.EarlyStopping(patience=3, restore_best_weights=True)]\n",
        ")\n",
        "\n",
        "print(\"[모델 재학습 완료]\")\n",
        "\n",
        "# ==========================\n",
        "# 8. 모델 저장\n",
        "# ==========================\n",
        "new_model.save('model_hard_focal.keras')\n",
        "print(\"[새 모델 저장 완료]\")\n"
      ],
      "metadata": {
        "colab": {
          "base_uri": "https://localhost:8080/"
        },
        "id": "t1bSHBAGk6aM",
        "outputId": "d01a16b5-6fba-4716-f469-7002f5700356"
      },
      "execution_count": null,
      "outputs": [
        {
          "output_type": "stream",
          "name": "stdout",
          "text": [
            "[기존 모델 로드 완료]\n",
            "\u001b[1m2000/2000\u001b[0m \u001b[32m━━━━━━━━━━━━━━━━━━━━\u001b[0m\u001b[37m\u001b[0m \u001b[1m41s\u001b[0m 20ms/step\n",
            "[오탐 데이터 개수]: 2116개\n",
            "[정확히 예측한 데이터 개수]: 61884개\n",
            "[하드마이닝 완료]\n",
            "최종 학습 데이터 shape: (66116, 77)\n",
            "[Focal Loss 정의 완료]\n",
            "[새로운 모델 컴파일 완료]\n",
            "Epoch 1/20\n",
            "\u001b[1m827/827\u001b[0m \u001b[32m━━━━━━━━━━━━━━━━━━━━\u001b[0m\u001b[37m\u001b[0m \u001b[1m85s\u001b[0m 96ms/step - accuracy: 0.4927 - loss: 0.2097 - val_accuracy: 0.8722 - val_loss: 0.0520\n",
            "Epoch 2/20\n",
            "\u001b[1m827/827\u001b[0m \u001b[32m━━━━━━━━━━━━━━━━━━━━\u001b[0m\u001b[37m\u001b[0m \u001b[1m79s\u001b[0m 95ms/step - accuracy: 0.8376 - loss: 0.0556 - val_accuracy: 0.8764 - val_loss: 0.0389\n",
            "Epoch 3/20\n",
            "\u001b[1m827/827\u001b[0m \u001b[32m━━━━━━━━━━━━━━━━━━━━\u001b[0m\u001b[37m\u001b[0m \u001b[1m79s\u001b[0m 95ms/step - accuracy: 0.8730 - loss: 0.0423 - val_accuracy: 0.9030 - val_loss: 0.0252\n",
            "Epoch 4/20\n",
            "\u001b[1m827/827\u001b[0m \u001b[32m━━━━━━━━━━━━━━━━━━━━\u001b[0m\u001b[37m\u001b[0m \u001b[1m79s\u001b[0m 96ms/step - accuracy: 0.8743 - loss: 0.0399 - val_accuracy: 0.9112 - val_loss: 0.0248\n",
            "Epoch 5/20\n",
            "\u001b[1m827/827\u001b[0m \u001b[32m━━━━━━━━━━━━━━━━━━━━\u001b[0m\u001b[37m\u001b[0m \u001b[1m79s\u001b[0m 95ms/step - accuracy: 0.8890 - loss: 0.0358 - val_accuracy: 0.9003 - val_loss: 0.0304\n",
            "Epoch 6/20\n",
            "\u001b[1m827/827\u001b[0m \u001b[32m━━━━━━━━━━━━━━━━━━━━\u001b[0m\u001b[37m\u001b[0m \u001b[1m79s\u001b[0m 96ms/step - accuracy: 0.8994 - loss: 0.0287 - val_accuracy: 0.8837 - val_loss: 0.0386\n",
            "Epoch 7/20\n",
            "\u001b[1m827/827\u001b[0m \u001b[32m━━━━━━━━━━━━━━━━━━━━\u001b[0m\u001b[37m\u001b[0m \u001b[1m79s\u001b[0m 96ms/step - accuracy: 0.9088 - loss: 0.0265 - val_accuracy: 0.9210 - val_loss: 0.0191\n",
            "Epoch 8/20\n",
            "\u001b[1m827/827\u001b[0m \u001b[32m━━━━━━━━━━━━━━━━━━━━\u001b[0m\u001b[37m\u001b[0m \u001b[1m79s\u001b[0m 96ms/step - accuracy: 0.9055 - loss: 0.0263 - val_accuracy: 0.9273 - val_loss: 0.0194\n",
            "Epoch 9/20\n",
            "\u001b[1m827/827\u001b[0m \u001b[32m━━━━━━━━━━━━━━━━━━━━\u001b[0m\u001b[37m\u001b[0m \u001b[1m79s\u001b[0m 95ms/step - accuracy: 0.9136 - loss: 0.0227 - val_accuracy: 0.9202 - val_loss: 0.0203\n",
            "Epoch 10/20\n",
            "\u001b[1m827/827\u001b[0m \u001b[32m━━━━━━━━━━━━━━━━━━━━\u001b[0m\u001b[37m\u001b[0m \u001b[1m79s\u001b[0m 96ms/step - accuracy: 0.9188 - loss: 0.0211 - val_accuracy: 0.9161 - val_loss: 0.0216\n",
            "[모델 재학습 완료]\n",
            "[새 모델 저장 완료]\n"
          ]
        }
      ]
    },
    {
      "cell_type": "code",
      "source": [
        "# ==========================\n",
        "# 1. 라이브러리 임포트\n",
        "# ==========================\n",
        "from tensorflow.keras.models import load_model\n",
        "from tensorflow.keras import backend as K\n",
        "from sklearn.metrics import classification_report, confusion_matrix\n",
        "import numpy as np\n",
        "import matplotlib.pyplot as plt\n",
        "import seaborn as sns\n",
        "\n",
        "# ==========================\n",
        "# 2. focal_loss_fixed 함수 정의 (저장할 때 사용한 것과 일치해야 함)\n",
        "# ==========================\n",
        "def focal_loss_fixed(y_true, y_pred, alpha=0.25, gamma=2.0):\n",
        "    y_true = K.one_hot(K.cast(y_true, 'int32'), num_classes)  # num_classes는 데이터 기준 설정\n",
        "    y_true = K.squeeze(y_true, axis=1) if len(y_true.shape) == 3 else y_true\n",
        "    cross_entropy = K.binary_crossentropy(y_true, y_pred)\n",
        "    weight = alpha * K.pow(1 - y_pred, gamma)\n",
        "    loss = weight * cross_entropy\n",
        "    return K.sum(loss, axis=-1)\n",
        "\n",
        "# ==========================\n",
        "# 3. 모델 로드 (custom_objects 필수)\n",
        "# ==========================\n",
        "model_loaded = load_model('model_hard_focal.keras',\n",
        "                          custom_objects={'focal_loss_fixed': focal_loss_fixed})\n",
        "print(\"[하드마이닝 + Focal Loss 모델] 로드 완료\")\n",
        "\n",
        "# ==========================\n",
        "# 4. 테스트 데이터 준비 (X_test_reshaped, y_test 사용)\n",
        "# ==========================\n",
        "# X_test_reshaped, y_test는 반드시 기존에 준비되어 있어야 합니다.\n",
        "\n",
        "# ==========================\n",
        "# 5. 예측 및 평가\n",
        "# ==========================\n",
        "y_pred_probs = model_loaded.predict(X_test_reshaped)\n",
        "y_pred = np.argmax(y_pred_probs, axis=1)\n",
        "\n",
        "print(\"\\n[Classification Report]\")\n",
        "print(classification_report(y_test, y_pred, target_names=labelencoder.classes_))\n",
        "\n",
        "# ==========================\n",
        "# 6. Confusion Matrix 시각화\n",
        "# ==========================\n",
        "cm = confusion_matrix(y_test, y_pred)\n",
        "plt.figure(figsize=(10,8))\n",
        "sns.heatmap(cm, annot=True, fmt=\"d\", cmap=\"Blues\",\n",
        "            xticklabels=labelencoder.classes_,\n",
        "            yticklabels=labelencoder.classes_)\n",
        "plt.title(\"Confusion Matrix - Hard Mining + Focal Loss Model\")\n",
        "plt.xlabel(\"Predicted\")\n",
        "plt.ylabel(\"True\")\n",
        "plt.show()\n"
      ],
      "metadata": {
        "colab": {
          "base_uri": "https://localhost:8080/",
          "height": 1000
        },
        "id": "bC0EeQEFqmlb",
        "outputId": "42781ade-5908-4a26-dd76-a85157c2cb4e"
      },
      "execution_count": null,
      "outputs": [
        {
          "output_type": "stream",
          "name": "stdout",
          "text": [
            "[하드마이닝 + Focal Loss 모델] 로드 완료\n",
            "\u001b[1m500/500\u001b[0m \u001b[32m━━━━━━━━━━━━━━━━━━━━\u001b[0m\u001b[37m\u001b[0m \u001b[1m11s\u001b[0m 22ms/step\n",
            "\n",
            "[Classification Report]\n",
            "              precision    recall  f1-score   support\n",
            "\n",
            "      Botnet       0.96      1.00      0.98      2000\n",
            "         DoS       0.93      0.89      0.91      2000\n",
            "  Heartbleed       1.00      1.00      1.00      2000\n",
            "Infiltration       0.98      0.99      0.98      2000\n",
            "      Normal       0.85      0.80      0.82      2000\n",
            "     Patator       0.90      0.99      0.94      2000\n",
            "    PortScan       0.98      0.99      0.98      2000\n",
            "  Web Attack       0.97      0.92      0.95      2000\n",
            "\n",
            "    accuracy                           0.95     16000\n",
            "   macro avg       0.95      0.95      0.95     16000\n",
            "weighted avg       0.95      0.95      0.95     16000\n",
            "\n"
          ]
        },
        {
          "output_type": "display_data",
          "data": {
            "text/plain": [
              "<Figure size 1000x800 with 2 Axes>"
            ],
            "image/png": "[encoded data removed]"
          },
          "metadata": {}
        }
      ]
    },
    {
      "cell_type": "markdown",
      "source": [
        "FEATURE 추출"
      ],
      "metadata": {
        "id": "qTy08aICk61v"
      }
    },
    {
      "cell_type": "code",
      "source": [
        "import numpy as np\n",
        "import tensorflow as tf\n",
        "from sklearn.metrics import f1_score\n",
        "from tqdm import tqdm\n",
        "\n",
        "print(\"[시작] 클래스별 Permutation Feature Importance 계산\")\n",
        "\n",
        "# 1. 전체 baseline 성능 계산\n",
        "X_test_flat = X_test_reshaped.squeeze(axis=2)  # (batch_size, feature_dim)\n",
        "y_pred_baseline = np.argmax(model.predict(X_test_reshaped, verbose=0), axis=1)\n",
        "baseline_f1 = f1_score(y_test, y_pred_baseline, average='macro')\n",
        "\n",
        "print(f\"[Baseline F1] 전체 데이터 기준: {baseline_f1:.4f}\")\n",
        "\n",
        "# 2. 클래스별 인덱스 나누기\n",
        "class_indices = {i: np.where(y_test == i)[0] for i in np.unique(y_test)}"
      ],
      "metadata": {
        "colab": {
          "base_uri": "https://localhost:8080/"
        },
        "id": "Kou4DxRJnrkv",
        "outputId": "1adb5b4c-344c-45c4-93ee-453c463cc451"
      },
      "execution_count": null,
      "outputs": [
        {
          "output_type": "stream",
          "name": "stdout",
          "text": [
            "[시작] 클래스별 Permutation Feature Importance 계산\n",
            "[Baseline F1] 전체 데이터 기준: 0.9713\n"
          ]
        }
      ]
    },
    {
      "cell_type": "code",
      "source": [
        "# 3. 클래스별 Feature Importance 계산\n",
        "feature_importance_per_class = {}\n",
        "num_features = X_test_flat.shape[1]\n",
        "\n",
        "for class_label, indices in class_indices.items():\n",
        "    print(f\"\\n[진행중] 클래스 {class_label}\")\n",
        "\n",
        "    X_class = X_test_flat[indices]\n",
        "    y_class = y_test[indices]\n",
        "\n",
        "    # 클래스별 baseline 성능\n",
        "    X_class_reshaped = np.expand_dims(X_class, axis=2)\n",
        "    y_pred_class_baseline = np.argmax(model.predict(X_class_reshaped, verbose=0), axis=1)\n",
        "    class_baseline_f1 = f1_score(y_class, y_pred_class_baseline, average='macro')\n",
        "\n",
        "    importances = []\n",
        "\n",
        "    for feature_idx in tqdm(range(num_features)):\n",
        "        X_permuted = X_class.copy()\n",
        "        np.random.shuffle(X_permuted[:, feature_idx])  # Feature 하나만 무작위로 섞음\n",
        "        X_permuted_reshaped = np.expand_dims(X_permuted, axis=2)\n",
        "\n",
        "        y_pred_permuted = np.argmax(model.predict(X_permuted_reshaped, verbose=0), axis=1)\n",
        "        permuted_f1 = f1_score(y_class, y_pred_permuted, average='macro')\n",
        "\n",
        "        importance = class_baseline_f1 - permuted_f1  # F1-score 하락폭\n",
        "        importances.append(importance)\n",
        "\n",
        "    feature_importance_per_class[class_label] = np.array(importances)\n",
        "\n",
        "    print(f\"[완료] 클래스 {class_label} Feature Importance 계산 성공\")"
      ],
      "metadata": {
        "colab": {
          "base_uri": "https://localhost:8080/"
        },
        "id": "YpjA_mcCaXRl",
        "outputId": "1636be34-4f11-4b64-fbd5-a741512c4052"
      },
      "execution_count": null,
      "outputs": [
        {
          "output_type": "stream",
          "name": "stdout",
          "text": [
            "\n",
            "[진행중] 클래스 0\n"
          ]
        },
        {
          "output_type": "stream",
          "name": "stderr",
          "text": [
            "100%|██████████| 77/77 [01:39<00:00,  1.29s/it]\n"
          ]
        },
        {
          "output_type": "stream",
          "name": "stdout",
          "text": [
            "[완료] 클래스 0 Feature Importance 계산 성공\n",
            "\n",
            "[진행중] 클래스 1\n"
          ]
        },
        {
          "output_type": "stream",
          "name": "stderr",
          "text": [
            "100%|██████████| 77/77 [01:37<00:00,  1.27s/it]\n"
          ]
        },
        {
          "output_type": "stream",
          "name": "stdout",
          "text": [
            "[완료] 클래스 1 Feature Importance 계산 성공\n",
            "\n",
            "[진행중] 클래스 2\n"
          ]
        },
        {
          "output_type": "stream",
          "name": "stderr",
          "text": [
            "100%|██████████| 77/77 [01:38<00:00,  1.28s/it]\n"
          ]
        },
        {
          "output_type": "stream",
          "name": "stdout",
          "text": [
            "[완료] 클래스 2 Feature Importance 계산 성공\n",
            "\n",
            "[진행중] 클래스 3\n"
          ]
        },
        {
          "output_type": "stream",
          "name": "stderr",
          "text": [
            "100%|██████████| 77/77 [01:39<00:00,  1.30s/it]\n"
          ]
        },
        {
          "output_type": "stream",
          "name": "stdout",
          "text": [
            "[완료] 클래스 3 Feature Importance 계산 성공\n",
            "\n",
            "[진행중] 클래스 4\n"
          ]
        },
        {
          "output_type": "stream",
          "name": "stderr",
          "text": [
            "100%|██████████| 77/77 [01:42<00:00,  1.33s/it]\n"
          ]
        },
        {
          "output_type": "stream",
          "name": "stdout",
          "text": [
            "[완료] 클래스 4 Feature Importance 계산 성공\n",
            "\n",
            "[진행중] 클래스 5\n"
          ]
        },
        {
          "output_type": "stream",
          "name": "stderr",
          "text": [
            "100%|██████████| 77/77 [01:41<00:00,  1.32s/it]\n"
          ]
        },
        {
          "output_type": "stream",
          "name": "stdout",
          "text": [
            "[완료] 클래스 5 Feature Importance 계산 성공\n",
            "\n",
            "[진행중] 클래스 6\n"
          ]
        },
        {
          "output_type": "stream",
          "name": "stderr",
          "text": [
            "100%|██████████| 77/77 [01:41<00:00,  1.32s/it]\n"
          ]
        },
        {
          "output_type": "stream",
          "name": "stdout",
          "text": [
            "[완료] 클래스 6 Feature Importance 계산 성공\n",
            "\n",
            "[진행중] 클래스 7\n"
          ]
        },
        {
          "output_type": "stream",
          "name": "stderr",
          "text": [
            "100%|██████████| 77/77 [01:39<00:00,  1.29s/it]"
          ]
        },
        {
          "output_type": "stream",
          "name": "stdout",
          "text": [
            "[완료] 클래스 7 Feature Importance 계산 성공\n"
          ]
        },
        {
          "output_type": "stream",
          "name": "stderr",
          "text": [
            "\n"
          ]
        }
      ]
    },
    {
      "cell_type": "code",
      "source": [
        "# y_test 라벨 종류와 순서 출력\n",
        "unique_labels = np.unique(y_test)\n",
        "\n",
        "# 반드시 실행\n",
        "print(\"\\n[Label 디코딩 매핑 확인]\")\n",
        "for idx, class_name in enumerate(labelencoder.classes_):\n",
        "    print(f\"{idx}: {class_name}\")\n",
        "\n",
        "# 현재 X 데이터의 컬럼 이름 리스트 출력\n",
        "current_feature_names = X.columns.tolist()\n",
        "\n",
        "print(\"[현재 Feature 목록]\")\n",
        "for idx, feature in enumerate(current_feature_names):\n",
        "    print(f\"{idx}: {feature}\")\n",
        "\n"
      ],
      "metadata": {
        "colab": {
          "base_uri": "https://localhost:8080/",
          "height": 219
        },
        "id": "__60PfGIo3sD",
        "outputId": "a8c29ff7-fd0f-4500-ab69-210decf17abf"
      },
      "execution_count": null,
      "outputs": [
        {
          "output_type": "error",
          "ename": "NameError",
          "evalue": "name 'y_test' is not defined",
          "traceback": [
            "\u001b[0;31m---------------------------------------------------------------------------\u001b[0m",
            "\u001b[0;31mNameError\u001b[0m                                 Traceback (most recent call last)",
            "\u001b[0;32m<ipython-input-10-d6139805be6a>\u001b[0m in \u001b[0;36m<cell line: 0>\u001b[0;34m()\u001b[0m\n\u001b[1;32m      1\u001b[0m \u001b[0;31m# y_test 라벨 종류와 순서 출력\u001b[0m\u001b[0;34m\u001b[0m\u001b[0;34m\u001b[0m\u001b[0m\n\u001b[0;32m----> 2\u001b[0;31m \u001b[0munique_labels\u001b[0m \u001b[0;34m=\u001b[0m \u001b[0mnp\u001b[0m\u001b[0;34m.\u001b[0m\u001b[0munique\u001b[0m\u001b[0;34m(\u001b[0m\u001b[0my_test\u001b[0m\u001b[0;34m)\u001b[0m\u001b[0;34m\u001b[0m\u001b[0;34m\u001b[0m\u001b[0m\n\u001b[0m\u001b[1;32m      3\u001b[0m \u001b[0;34m\u001b[0m\u001b[0m\n\u001b[1;32m      4\u001b[0m \u001b[0;31m# 반드시 실행\u001b[0m\u001b[0;34m\u001b[0m\u001b[0;34m\u001b[0m\u001b[0m\n\u001b[1;32m      5\u001b[0m \u001b[0mprint\u001b[0m\u001b[0;34m(\u001b[0m\u001b[0;34m\"\\n[Label 디코딩 매핑 확인]\"\u001b[0m\u001b[0;34m)\u001b[0m\u001b[0;34m\u001b[0m\u001b[0;34m\u001b[0m\u001b[0m\n",
            "\u001b[0;31mNameError\u001b[0m: name 'y_test' is not defined"
          ]
        }
      ]
    },
    {
      "cell_type": "code",
      "source": [
        "# 4. 클래스별 Top-N Feature 출력\n",
        "TOP_N = 10\n",
        "\n",
        "for class_label, importance_scores in feature_importance_per_class.items():\n",
        "    top_features = np.argsort(importance_scores)[::-1][:TOP_N]\n",
        "    print(f\"\\n[클래스 {class_label}] 중요도 Top {TOP_N} Feature 인덱스:\")\n",
        "    print(top_features)\n",
        "    print(f\"중요도 점수: {importance_scores[top_features]}\")\n"
      ],
      "metadata": {
        "colab": {
          "base_uri": "https://localhost:8080/"
        },
        "id": "-3siaOEbagIz",
        "outputId": "71c70a09-a8fe-4eaf-a5ec-5cf50776eab6"
      },
      "execution_count": null,
      "outputs": [
        {
          "output_type": "stream",
          "name": "stdout",
          "text": [
            "\n",
            "[클래스 0] 중요도 Top 10 Feature 인덱스:\n",
            "[46 37 47 36 52  8 38 39 66 50]\n",
            "중요도 점수: [0.15614328 0.15474659 0.11961205 0.11700422 0.08898012 0.08793462\n",
            " 0.08780454 0.08760965 0.08683309 0.08599714]\n",
            "\n",
            "[클래스 1] 중요도 Top 10 Feature 인덱스:\n",
            "[38 41 51 11 21  9 50 75 26 15]\n",
            "중요도 점수: [0.07192726 0.06611424 0.05671938 0.05140628 0.04662817 0.04652809\n",
            " 0.04513838 0.04227821 0.04213519 0.04085824]\n",
            "\n",
            "[클래스 2] 중요도 Top 10 Feature 인덱스:\n",
            "[76 75 74 73 72 71 70 69 68 67]\n",
            "중요도 점수: [0. 0. 0. 0. 0. 0. 0. 0. 0. 0.]\n",
            "\n",
            "[클래스 3] 중요도 Top 10 Feature 인덱스:\n",
            "[43 24 52 27 19  5 75 71 46 45]\n",
            "중요도 점수: [0.35218731 0.30682542 0.30634181 0.30586044 0.30485155 0.30416691\n",
            " 0.30244928 0.26570238 0.26226834 0.26226834]\n",
            "\n",
            "[클래스 4] 중요도 Top 10 Feature 인덱스:\n",
            "[50 72  8 52 19 66 22  6 13 14]\n",
            "중요도 점수: [0.01762432 0.01667368 0.01649239 0.01584376 0.00125156 0.00108351\n",
            " 0.0007903  0.00053985 0.00037334 0.00033177]\n",
            "\n",
            "[클래스 5] 중요도 Top 10 Feature 인덱스:\n",
            "[43 65 36  8 45 35 47 46 51 14]\n",
            "중요도 점수: [0.18297288 0.1736181  0.1532713  0.15224117 0.1502095  0.13797317\n",
            " 0.1316247  0.11304218 0.08664668 0.0857462 ]\n",
            "\n",
            "[클래스 6] 중요도 Top 10 Feature 인덱스:\n",
            "[35 24 23 15 66 50 19 27 17 75]\n",
            "중요도 점수: [0.08467564 0.08341683 0.08335422 0.08335422 0.00092012 0.00050125\n",
            " 0.00016692 0.00016692 0.00016692 0.00016692]\n",
            "\n",
            "[클래스 7] 중요도 Top 10 Feature 인덱스:\n",
            "[51  8  7 38 52 47 12 66 65 50]\n",
            "중요도 점수: [0.06000573 0.04151173 0.04078968 0.0372188  0.03653081 0.03517092\n",
            " 0.03356676 0.02509709 0.01022455 0.00676057]\n"
          ]
        }
      ]
    },
    {
      "cell_type": "code",
      "source": [],
      "metadata": {
        "id": "OEAEFePHs9o3"
      },
      "execution_count": null,
      "outputs": []
    }
  ]
}